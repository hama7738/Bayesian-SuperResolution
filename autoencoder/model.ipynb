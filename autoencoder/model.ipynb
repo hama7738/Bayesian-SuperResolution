{
 "cells": [
  {
   "cell_type": "markdown",
   "metadata": {},
   "source": [
    "### Model \n",
    "<img src=\"./autoencoder.png\">\n",
    "\n",
    "### unpooling and convolution \n",
    "<img src=\"./unpooling.png\">"
   ]
  },
  {
   "cell_type": "code",
   "execution_count": 2,
   "metadata": {},
   "outputs": [
    {
     "name": "stderr",
     "output_type": "stream",
     "text": [
      "/usr/local/envs/py2env/lib/python2.7/site-packages/h5py/__init__.py:36: FutureWarning: Conversion of the second argument of issubdtype from `float` to `np.floating` is deprecated. In future, it will be treated as `np.float64 == np.dtype(float).type`.\n",
      "  from ._conv import register_converters as _register_converters\n"
     ]
    }
   ],
   "source": [
    "from tensorflow.python.keras.datasets import mnist\n",
    "import numpy as np\n",
    "\n",
    "# preprocessing\n",
    "(X_train, _), (X_test, _) = mnist.load_data()\n",
    "X_train = X_train.astype('float32') / 255.\n",
    "X_test = X_test.astype('float32') / 255.\n",
    "X_train = np.reshape(X_train, (len(X_train), 28, 28, 1))\n",
    "X_test = np.reshape(X_test, (len(X_test), 28, 28, 1))"
   ]
  },
  {
   "cell_type": "code",
   "execution_count": 3,
   "metadata": {},
   "outputs": [],
   "source": [
    "# modeling\n",
    "from tensorflow.python.keras.models import Sequential \n",
    "from tensorflow.python.keras.layers import Dense, Dropout, Flatten \n",
    "from tensorflow.python.keras.layers import Conv2D, MaxPooling2D, UpSampling2D\n",
    "from tensorflow.python import keras \n",
    "model = Sequential()\n",
    "# encoding\n",
    "model.add(Conv2D(16, kernel_size=(3, 3), padding ='same' ,activation='relu', input_shape=(28,28,1)))\n",
    "model.add(MaxPooling2D(pool_size=(2, 2)))\n",
    "model.add(Conv2D(8, kernel_size=(3, 3), padding ='same',activation='relu'))\n",
    "model.add(MaxPooling2D(pool_size=(2, 2)))\n",
    "\n",
    "# decoding\n",
    "model.add(Conv2D(8, kernel_size=(3, 3),padding ='same', activation='relu'))\n",
    "model.add(UpSampling2D((2,2)))\n",
    "model.add(Conv2D(16, kernel_size=(3, 3), padding ='same',activation='relu'))\n",
    "model.add(UpSampling2D((2,2)))\n",
    "model.add(Conv2D(1, kernel_size=(3, 3), padding ='same',activation='sigmoid'))\n",
    "model.compile(loss=keras.losses.binary_crossentropy,\n",
    "              optimizer=keras.optimizers.Adam()\n",
    "             )"
   ]
  },
  {
   "cell_type": "code",
   "execution_count": 4,
   "metadata": {},
   "outputs": [
    {
     "name": "stdout",
     "output_type": "stream",
     "text": [
      "Train on 60000 samples, validate on 10000 samples\n",
      "Epoch 1/8\n",
      "60000/60000 [==============================] - 126s 2ms/step - loss: 0.1608 - val_loss: 0.0895\n",
      "Epoch 2/8\n",
      "60000/60000 [==============================] - 125s 2ms/step - loss: 0.0849 - val_loss: 0.0807\n",
      "Epoch 3/8\n",
      "60000/60000 [==============================] - 125s 2ms/step - loss: 0.0801 - val_loss: 0.0780\n",
      "Epoch 4/8\n",
      "60000/60000 [==============================] - 126s 2ms/step - loss: 0.0779 - val_loss: 0.0764\n",
      "Epoch 5/8\n",
      "60000/60000 [==============================] - 124s 2ms/step - loss: 0.0764 - val_loss: 0.0750\n",
      "Epoch 6/8\n",
      "60000/60000 [==============================] - 125s 2ms/step - loss: 0.0753 - val_loss: 0.0741\n",
      "Epoch 7/8\n",
      "60000/60000 [==============================] - 124s 2ms/step - loss: 0.0744 - val_loss: 0.0734\n",
      "Epoch 8/8\n",
      "60000/60000 [==============================] - 126s 2ms/step - loss: 0.0738 - val_loss: 0.0729\n"
     ]
    },
    {
     "data": {
      "text/plain": [
       "<tensorflow.python.keras._impl.keras.callbacks.History at 0x7f0f505c3c50>"
      ]
     },
     "execution_count": 4,
     "metadata": {},
     "output_type": "execute_result"
    }
   ],
   "source": [
    "# fitting\n",
    "model.fit(X_train, X_train,\n",
    "          epochs=8,\n",
    "          batch_size=128,\n",
    "          shuffle=True,\n",
    "          validation_data=(X_test, X_test)\n",
    "         )"
   ]
  },
  {
   "cell_type": "code",
   "execution_count": 14,
   "metadata": {},
   "outputs": [],
   "source": [
    "# predict \n",
    "predicted = model.predict(X_test[:10])"
   ]
  },
  {
   "cell_type": "code",
   "execution_count": 28,
   "metadata": {},
   "outputs": [
    {
     "data": {
      "image/png": "[encoded data removed]",
      "text/plain": [
       "<matplotlib.figure.Figure at 0x7f0f34ec1390>"
      ]
     },
     "metadata": {},
     "output_type": "display_data"
    }
   ],
   "source": [
    "n = 10 \n",
    "for i in range(n):\n",
    "  # display original\n",
    "  ax = plt.subplot(4, n, i+1)\n",
    "  plt.imshow(np.squeeze(X_test[i]), interpolation='None')\n",
    "  ax.get_xaxis().set_visible(False)\n",
    "  ax.get_yaxis().set_visible(False)\n",
    "  plt.gray()"
   ]
  },
  {
   "cell_type": "code",
   "execution_count": 29,
   "metadata": {},
   "outputs": [
    {
     "data": {
      "image/png": "[encoded data removed]",
      "text/plain": [
       "<matplotlib.figure.Figure at 0x7f0f20f69a50>"
      ]
     },
     "metadata": {},
     "output_type": "display_data"
    }
   ],
   "source": [
    "for i in range(n):\n",
    "  # display original\n",
    "  ax = plt.subplot(4, n, i+1)\n",
    "  plt.imshow(np.squeeze(predicted[i]), interpolation='None')\n",
    "  ax.get_xaxis().set_visible(False)\n",
    "  ax.get_yaxis().set_visible(False)\n",
    "  plt.gray()\n",
    "plt.show()"
   ]
  },
  {
   "cell_type": "code",
   "execution_count": null,
   "metadata": {},
   "outputs": [],
   "source": []
  }
 ],
 "metadata": {
  "kernelspec": {
   "display_name": "Python 2",
   "language": "python",
   "name": "python2"
  },
  "language_info": {
   "codemirror_mode": {
    "name": "ipython",
    "version": 2
   },
   "file_extension": ".py",
   "mimetype": "text/x-python",
   "name": "python",
   "nbconvert_exporter": "python",
   "pygments_lexer": "ipython2",
   "version": "2.7.15"
  }
 },
 "nbformat": 4,
 "nbformat_minor": 2
}
