{
 "cells": [
  {
   "cell_type": "code",
   "execution_count": 1,
   "metadata": {},
   "outputs": [],
   "source": [
    "import numpy as np\n",
    "import pandas as pd\n",
    "import matplotlib.pyplot as plt\n",
    "import itertools as iter\n",
    "from progressbar import ProgressBar"
   ]
  },
  {
   "cell_type": "markdown",
   "metadata": {},
   "source": [
    "## Generator\n",
    "- `p_comb` : P行列のパターン\n",
    "- `a_comb` : フィルター値のパターン\n",
    "- `binalize` : 計算結果を二値化するかどうか\n",
    "- `threshold` : 二値化するときの閾値"
   ]
  },
  {
   "cell_type": "code",
   "execution_count": 22,
   "metadata": {},
   "outputs": [
    {
     "name": "stderr",
     "output_type": "stream",
     "text": [
      "/ |  #                                            | 18740 Elapsed Time: 0:00:00"
     ]
    },
    {
     "name": "stdout",
     "output_type": "stream",
     "text": [
      "1048576\n"
     ]
    },
    {
     "name": "stderr",
     "output_type": "stream",
     "text": [
      "- | #                                           | 1047517 Elapsed Time: 0:00:08"
     ]
    },
    {
     "name": "stdout",
     "output_type": "stream",
     "text": [
      "CPU times: user 10.4 s, sys: 473 ms, total: 10.9 s\n",
      "Wall time: 10.6 s\n"
     ]
    },
    {
     "data": {
      "image/png": "[encoded data removed]",
      "text/plain": [
       "<Figure size 720x288 with 2 Axes>"
      ]
     },
     "metadata": {
      "needs_background": "light"
     },
     "output_type": "display_data"
    }
   ],
   "source": [
    "%%time\n",
    "## INPUT\n",
    "p_comb = [0, 1]\n",
    "a_comb = [0.5, 1]\n",
    "binalize = True\n",
    "threshold = 0.5\n",
    "\n",
    "\n",
    "total_comb = len( p_comb ) ** 16 * len( a_comb ) ** 4\n",
    "print(total_comb)\n",
    "p_matrix = np.empty((total_comb, 16), dtype='float16')\n",
    "q_matrix = np.empty((total_comb, 9), dtype='float16')\n",
    "count = 0\n",
    "p = ProgressBar(total_comb)\n",
    "\n",
    "for p_11, p_12, p_13, p_14, p_21, p_22, p_23, p_24, p_31, p_32, p_33, p_34, p_41, p_42, p_43, p_44 in iter.product(p_comb, p_comb, p_comb, p_comb, p_comb, p_comb, p_comb, p_comb, p_comb, p_comb, p_comb, p_comb, p_comb, p_comb, p_comb, p_comb):\n",
    "    for a_11, a_12, a_21, a_22 in iter.product(a_comb, a_comb, a_comb, a_comb):\n",
    "        q_matrix[count] = np.array([p_11 * a_11 + p_12 * a_12 + p_21 * a_21 + p_22 * a_22,\n",
    "                                    p_12 * a_11 + p_13 * a_12 + p_22 * a_21 + p_23 * a_22,\n",
    "                                    p_13 * a_11 + p_14 * a_12 + p_23 * a_21 + p_24 * a_22, \n",
    "                                    p_21 * a_11 + p_22 * a_12 + p_31 * a_21 + p_32 * a_22,\n",
    "                                    p_22 * a_11 + p_23 * a_12 + p_32 * a_21 + p_33 * a_22,\n",
    "                                    p_23 * a_11 + p_24 * a_12 + p_33 * a_21 + p_34 * a_22,\n",
    "                                    p_31 * a_11 + p_32 * a_12 + p_41 * a_21 + p_42 * a_22,\n",
    "                                    p_32 * a_11 + p_33 * a_12 + p_42 * a_21 + p_43 * a_22,\n",
    "                                    p_33 * a_11 + p_34 * a_12 + p_43 * a_21 + p_44 * a_22\n",
    "                                   ],\n",
    "                                  dtype=\"float16\")\n",
    "        p_matrix[count] = np.array([p_11, p_12, p_13, p_14, p_21, p_22, p_23, p_24, p_31, p_32, p_33, p_34, p_41, p_42, p_43, p_44])\n",
    "        count += 1\n",
    "        p.update(count + 1)\n",
    "q_matrix /= 4\n",
    "\n",
    "## PLOTTING\n",
    "fig, axes = plt.subplots(1,2, figsize = (10,4))\n",
    "hist_data = [q_matrix[i][1] for i in range(q_matrix.shape[0])]\n",
    "axes[0].hist(hist_data)\n",
    "if binalize == True:\n",
    "    q_matrix[q_matrix < threshold] = 0\n",
    "    q_matrix[q_matrix >= threshold] = 1\n",
    "    hist_data_binalize = [q_matrix[i][1] for i in range(q_matrix.shape[0])]\n",
    "    axes[1].hist(hist_data_binalize)\n",
    "    \n",
    "np.savez_compressed('4x4matrix', p_matrix = p_matrix, q_matrix = q_matrix)"
   ]
  },
  {
   "cell_type": "code",
   "execution_count": 60,
   "metadata": {},
   "outputs": [
    {
     "name": "stderr",
     "output_type": "stream",
     "text": [
      "| |                #                             | 981744 Elapsed Time: 0:00:07"
     ]
    },
    {
     "name": "stdout",
     "output_type": "stream",
     "text": [
      "CPU times: user 7.46 s, sys: 297 ms, total: 7.75 s\n",
      "Wall time: 7.65 s\n"
     ]
    }
   ],
   "source": [
    "%%time\n",
    "p_matrix = np.empty((2**16 * (2 ** 4 - 1), 16))\n",
    "q_matrix = np.empty((2**16 * (2 ** 4 - 1), 9))\n",
    "count = 0\n",
    "p = ProgressBar(2**16 * (2 ** 4 - 1) - 1)\n",
    "\n",
    "for p_11, p_12, p_13, p_14, p_21, p_22, p_23, p_24, p_31, p_32, p_33, p_34, p_41, p_42, p_43, p_44 in iter.product([0,1],[0,1],[0,1],[0,1],[0,1],[0,1],[0,1],[0,1],[0,1],[0,1],[0,1],[0,1],[0,1],[0,1],[0,1],[0,1]):\n",
    "    for a_11, a_12, a_21, a_22 in iter.product([0.5,1],[0.5,1],[0.5,1],[0.5,1]):\n",
    "        if (a_11, a_12, a_21, a_22) != (0.5,0.5,0.5,0.5):\n",
    "            q_matrix[count] = np.array([p_11 * a_11 + p_12 * a_12 + p_21 * a_21 + p_22 * a_22,\n",
    "                                       p_12 * a_11 + p_13 * a_12 + p_22 * a_21 + p_23 * a_22,\n",
    "                                       p_13 * a_11 + p_14 * a_12 + p_23 * a_21 + p_24 * a_22, \n",
    "                                        p_21 * a_11 + p_22 * a_12 + p_31 * a_21 + p_32 * a_22,\n",
    "                                       p_22 * a_11 + p_23 * a_12 + p_32 * a_21 + p_33 * a_22,\n",
    "                                       p_23 * a_11 + p_24 * a_12 + p_33 * a_21 + p_34 * a_22,\n",
    "                                        p_31 * a_11 + p_32 * a_12 + p_41 * a_21 + p_42 * a_22,\n",
    "                                       p_32 * a_11 + p_33 * a_12 + p_42 * a_21 + p_43 * a_22,\n",
    "                                       p_33 * a_11 + p_34 * a_12 + p_43 * a_21 + p_44 * a_22\n",
    "                                       ])\n",
    "            p_matrix[count] = np.array([p_11, p_12, p_13, p_14, p_21, p_22, p_23, p_24, p_31, p_32, p_33, p_34, p_41, p_42, p_43, p_44])\n",
    "            count += 1\n",
    "            p.update(count + 1)\n",
    "            \n",
    "q_matrix[q_matrix <= 1] = 0\n",
    "q_matrix[q_matrix > 1] = 1"
   ]
  },
  {
   "cell_type": "code",
   "execution_count": 12,
   "metadata": {},
   "outputs": [
    {
     "name": "stderr",
     "output_type": "stream",
     "text": [
      "- |                   #                         | 5304515 Elapsed Time: 0:00:37"
     ]
    },
    {
     "name": "stdout",
     "output_type": "stream",
     "text": [
      "CPU times: user 37.3 s, sys: 1.55 s, total: 38.9 s\n",
      "Wall time: 38.2 s\n"
     ]
    }
   ],
   "source": [
    "%%time\n",
    "p_matrix = np.empty((2**16 * (3 ** 4), 16))\n",
    "q_matrix = np.empty((2**16 * (3 ** 4), 9))\n",
    "count = 0\n",
    "p = ProgressBar(2**16 * (3 ** 4) - 1)\n",
    "\n",
    "for p_11, p_12, p_13, p_14, p_21, p_22, p_23, p_24, p_31, p_32, p_33, p_34, p_41, p_42, p_43, p_44 in iter.product([0,1],[0,1],[0,1],[0,1],[0,1],[0,1],[0,1],[0,1],[0,1],[0,1],[0,1],[0,1],[0,1],[0,1],[0,1],[0,1]):\n",
    "    for a_11, a_12, a_21, a_22 in iter.product([0.8,0.5,1],[0.8,0.5,1],[0.8,0.5,1],[0.8,0.5,1]):\n",
    "        q_matrix[count] = np.array([p_11 * a_11 + p_12 * a_12 + p_21 * a_21 + p_22 * a_22,\n",
    "                                    p_12 * a_11 + p_13 * a_12 + p_22 * a_21 + p_23 * a_22,\n",
    "                                    p_13 * a_11 + p_14 * a_12 + p_23 * a_21 + p_24 * a_22, \n",
    "                                    p_21 * a_11 + p_22 * a_12 + p_31 * a_21 + p_32 * a_22,\n",
    "                                    p_22 * a_11 + p_23 * a_12 + p_32 * a_21 + p_33 * a_22,\n",
    "                                    p_23 * a_11 + p_24 * a_12 + p_33 * a_21 + p_34 * a_22,\n",
    "                                    p_31 * a_11 + p_32 * a_12 + p_41 * a_21 + p_42 * a_22,\n",
    "                                    p_32 * a_11 + p_33 * a_12 + p_42 * a_21 + p_43 * a_22,\n",
    "                                    p_33 * a_11 + p_34 * a_12 + p_43 * a_21 + p_44 * a_22\n",
    "                                   ])\n",
    "        p_matrix[count] = np.array([p_11, p_12, p_13, p_14, p_21, p_22, p_23, p_24, p_31, p_32, p_33, p_34, p_41, p_42, p_43, p_44])\n",
    "        count += 1\n",
    "        p.update(count + 1)\n",
    "            \n",
    "q_matrix[q_matrix <= 1] = 0\n",
    "q_matrix[q_matrix > 1] = 1"
   ]
  },
  {
   "cell_type": "markdown",
   "metadata": {},
   "source": [
    "## Saving as 4x4matrix.npz"
   ]
  },
  {
   "cell_type": "code",
   "execution_count": 19,
   "metadata": {},
   "outputs": [
    {
     "name": "stdout",
     "output_type": "stream",
     "text": [
      "CPU times: user 761 ms, sys: 13.5 ms, total: 775 ms\n",
      "Wall time: 778 ms\n"
     ]
    }
   ],
   "source": [
    "%time np.savez_compressed('4x4matrix', p_matrix = p_matrix, q_matrix = q_matrix)"
   ]
  },
  {
   "cell_type": "code",
   "execution_count": 20,
   "metadata": {},
   "outputs": [],
   "source": [
    "np.savez_compressed?"
   ]
  },
  {
   "cell_type": "markdown",
   "metadata": {},
   "source": [
    "## Showing histgram of q_matrix"
   ]
  },
  {
   "cell_type": "code",
   "execution_count": 6,
   "metadata": {},
   "outputs": [],
   "source": [
    "hist_data = [q_matrix[i][1] for i in range(q_matrix.shape[0])]"
   ]
  },
  {
   "cell_type": "code",
   "execution_count": 7,
   "metadata": {},
   "outputs": [
    {
     "data": {
      "text/plain": [
       "(array([331776.,      0., 442368.,      0.,      0., 221184.,      0.,\n",
       "         49152.,      0.,   4096.]),\n",
       " array([0. , 0.1, 0.2, 0.3, 0.4, 0.5, 0.6, 0.7, 0.8, 0.9, 1. ],\n",
       "       dtype=float16),\n",
       " <a list of 10 Patch objects>)"
      ]
     },
     "execution_count": 7,
     "metadata": {},
     "output_type": "execute_result"
    },
    {
     "data": {
      "image/png": "[encoded data removed]",
      "text/plain": [
       "<Figure size 432x288 with 1 Axes>"
      ]
     },
     "metadata": {
      "needs_background": "light"
     },
     "output_type": "display_data"
    }
   ],
   "source": [
    "plt.figure()\n",
    "plt.hist(hist_data)"
   ]
  },
  {
   "cell_type": "code",
   "execution_count": 16,
   "metadata": {},
   "outputs": [],
   "source": [
    "q_matrix_copy = q_matrix.copy()\n",
    "q_matrix_copy[q_matrix_copy <= 1] = 0\n",
    "q_matrix_copy[q_matrix_copy > 1] = 1"
   ]
  },
  {
   "cell_type": "code",
   "execution_count": 17,
   "metadata": {},
   "outputs": [
    {
     "data": {
      "text/plain": [
       "(array([5308416.,       0.]), array([0, 1, 2]), <a list of 2 Patch objects>)"
      ]
     },
     "execution_count": 17,
     "metadata": {},
     "output_type": "execute_result"
    },
    {
     "data": {
      "image/png": "[encoded data removed]",
      "text/plain": [
       "<Figure size 432x288 with 1 Axes>"
      ]
     },
     "metadata": {
      "needs_background": "light"
     },
     "output_type": "display_data"
    }
   ],
   "source": [
    "hist_data_binarized = [q_matrix_copy[i][0] for i in range( q_matrix_copy.shape[0] )]\n",
    "plt.figure()\n",
    "plt.hist(hist_data_binarized, bins = [0,1,2])"
   ]
  },
  {
   "cell_type": "code",
   "execution_count": 70,
   "metadata": {},
   "outputs": [
    {
     "name": "stdout",
     "output_type": "stream",
     "text": [
      "CPU times: user 169 ms, sys: 11.8 ms, total: 181 ms\n",
      "Wall time: 180 ms\n"
     ]
    }
   ],
   "source": [
    "%time test = np.load(\"4x4matrix.npz\")[\"p_matrix\"]"
   ]
  },
  {
   "cell_type": "code",
   "execution_count": 32,
   "metadata": {},
   "outputs": [],
   "source": [
    "plt.hist?"
   ]
  },
  {
   "cell_type": "code",
   "execution_count": 45,
   "metadata": {},
   "outputs": [
    {
     "data": {
      "text/plain": [
       "range(0, 8)"
      ]
     },
     "execution_count": 45,
     "metadata": {},
     "output_type": "execute_result"
    }
   ],
   "source": []
  },
  {
   "cell_type": "code",
   "execution_count": null,
   "metadata": {},
   "outputs": [],
   "source": []
  }
 ],
 "metadata": {
  "kernelspec": {
   "display_name": "Python 3",
   "language": "python",
   "name": "python3"
  },
  "language_info": {
   "codemirror_mode": {
    "name": "ipython",
    "version": 3
   },
   "file_extension": ".py",
   "mimetype": "text/x-python",
   "name": "python",
   "nbconvert_exporter": "python",
   "pygments_lexer": "ipython3",
   "version": "3.6.6"
  }
 },
 "nbformat": 4,
 "nbformat_minor": 2
}
