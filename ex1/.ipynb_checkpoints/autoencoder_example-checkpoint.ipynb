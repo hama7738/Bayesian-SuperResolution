{
 "cells": [
  {
   "cell_type": "markdown",
   "metadata": {},
   "source": [
    "### 1/17 追記\n",
    "AutoEncoderとベイズを比較して、\n",
    "`predicted image`と`p(P|Q)`の値がほぼ等しい結果が得られた.\n",
    "\n",
    "それは一体なぜなのか考察してください.\n",
    "\n",
    "\n",
    "また、この2つの間の違いを定量的に評価することは、発表の上で非常に重要な要素になりそうだと考えられます.\n",
    "質よりも量で思いついた事、新しい知見などはお互い共有しよう. 何もアウトプットしないことだけは避けてほしいです.\n",
    "\n",
    "\n",
    "橋爪さんからのアドバイスは以下の3つ.\n",
    "- `predicted image with binalization`から`original image`に変換出来るか確認する\n",
    "- `4x4MatrixGenerator.ipynb`のフィルター**A**の値を工夫する. 具体的には、より現実に近いケースを考える. 例として正規分布に従ったノイズ$\\epsilon$を加えてみたり... (要考察)\n",
    "- 実際の風景画や、大きなサイズにおいてこのアルゴリズムを適用してみる. ファミコンのドット絵とか面白そう? もしRGBに対応させるにはどうするか？　要考察"
   ]
  },
  {
   "cell_type": "code",
   "execution_count": 102,
   "metadata": {},
   "outputs": [],
   "source": [
    "import numpy as np\n",
    "import pandas as pd\n",
    "import matplotlib.pyplot as plt\n",
    "import itertools as iter\n",
    "import tensorflow as tf\n",
    "\n",
    "from tensorflow import keras\n",
    "from keras.models import Sequential\n",
    "from keras.layers import Dense, Activation, Dropout\n",
    "\n",
    "from PIL import Image\n",
    "\n",
    "%matplotlib inline"
   ]
  },
  {
   "cell_type": "code",
   "execution_count": 205,
   "metadata": {},
   "outputs": [],
   "source": [
    "class AE():\n",
    "    def __init__(self, optimizer='rmsprop', loss='mean_squared_error', input_data_path=\"../4x4matrix.csv\"):\n",
    "        self.p_matrix = np.load(\"4x4matrix.npz\")[\"p_matrix\"]\n",
    "        self.q_matrix = np.load(\"4x4matrix.npz\")[\"q_matrix\"]\n",
    "        self.optimizer = optimizer\n",
    "        self.model = Sequential()\n",
    "        self.model.add( Dense(25, activation = 'relu', input_dim = 9) )\n",
    "        #self.model.add( Dense(16, activation = 'relu') )\n",
    "        self.model.add( Dense(16, activation = 'hard_sigmoid') )\n",
    "        #self.model.add( Dense(16, activation = keras.layers.ReLU(max_value=1, negative_slope=0, threshold = 0)) )\n",
    "        #self.model.add( Dense(16, activation = keras.layers.ReLU(max_value=1, negative_slope=0, threshold = 0)) )\n",
    "        self.model.compile(optimizer = optimizer,\n",
    "                           loss = loss,\n",
    "                           metrics = ['accuracy'])\n",
    "        \n",
    "    def fit(self, epochs='4', batch_size='256'):\n",
    "        self.model.fit(self.q_matrix, self.p_matrix,\n",
    "                      epochs = epochs,\n",
    "                      batch_size = batch_size,\n",
    "                      validation_data = (self.q_matrix, self.p_matrix))\n",
    "    \n",
    "    def predict(self, test_img, threshold):\n",
    "        self.preds = self.model.predict(test_img).reshape(4,4)\n",
    "        self.preds_binary = self.preds.copy()\n",
    "        self.preds_binary[self.preds_binary < threshold] = 0\n",
    "        self.preds_binary[self.preds_binary >= threshold] = 1\n",
    "        print(self.preds, self.preds_binary)\n",
    "        \n",
    "        if test_img.dtype == 'int64':\n",
    "            ncols = 5\n",
    "            fig, axes = plt.subplots(nrows = 1, ncols = ncols, figsize = (14,14))\n",
    "            bayes_image = np.empty(16)\n",
    "            index_when_given_q = np.all(self.q_matrix == test_img, axis = 1)\n",
    "            p_given_q = self.p_matrix[index_when_given_q]\n",
    "            for i in range(16):\n",
    "                is_one_counter = 0\n",
    "                target_list = [p_given_q[j][i] for j in range(p_given_q.shape[0])]\n",
    "                total_length = len(target_list)\n",
    "    \n",
    "                for j in range(total_length):\n",
    "                    if target_list[j] == 1:\n",
    "                        is_one_counter += 1\n",
    "                prob = is_one_counter / total_length\n",
    "                bayes_image[i] = prob\n",
    "            axes[3].imshow(bayes_image.reshape(4,4), cmap = plt.cm.binary)\n",
    "            axes[3].set_title(\"p(P|Q) image based on bayes\")\n",
    "            bayes_image[ bayes_image < thresold ] = 0\n",
    "            bayes_image[ bayes_image >= thresold ] = 1\n",
    "            axes[4].imshow(bayes_image.reshape(4,4), cmap = plt.cm.binary)\n",
    "            axes[4].set_title(\"p(P|Q) image based on bayes with binalization\")\n",
    "            \n",
    "        elif test_img.dtype == 'float64':\n",
    "            ncols = 3\n",
    "            fig, axes = plt.subplots(nrows = 1, ncols = ncols, figsize = (14,14))\n",
    "        \n",
    "\n",
    "        axes[0].imshow(test_img.reshape(3,3), cmap = plt.cm.binary)\n",
    "        axes[0].set_title(\"original image\")\n",
    "        axes[1].imshow(self.preds, cmap = plt.cm.binary)\n",
    "        axes[1].set_title(\"predicted image\")\n",
    "        axes[2].imshow(self.preds_binary, cmap = plt.cm.binary)\n",
    "        axes[2].set_title(\"predicted image with binalization\")\n",
    "        \n",
    "    def SR(self, input_img, thresold):\n",
    "        # Preprocessing area\n",
    "        x, y = input_img.shape # dimention x and y\n",
    "        pad_list = [] # padding count x = 0, y = 1\n",
    "        for i in [x, y]:\n",
    "            if i % 3 == 0:\n",
    "                pad_list.append(0)\n",
    "            elif i % 3 == 1:\n",
    "                pad_list.append(2)\n",
    "            else:\n",
    "                pad_list.append(1)\n",
    "        temp = np.zeros((x + pad_list[0], y + pad_list[1])) # new temporary array replaced with input_img\n",
    "        temp[ 0 : x, 0 : y] = input_img\n",
    "        input_img = temp\n",
    "        m,n = input_img.shape[0], input_img.shape[1]\n",
    "        \n",
    "        # SR area\n",
    "        for i, j in iter.product(range(n), range(m)):\n",
    "            partial_img = input_img.copy()[ 3 * j : 3 * ( j + 1 ), 3 * i : 3 * ( i + 1)] \n",
    "            partial_img = self.model.predict( partial_img.reshape(1,9) )\n",
    "            output_img[4 * j : 4 * (j + 1), 4 * i : 4 * ( i + 1)] = partial_img.reshape(4,4)\n",
    "        output_img_binalized = output_img.copy()\n",
    "        output_img_binalized[output_img_binalized >= thresold] = 1\n",
    "        output_img_binalized[output_img_binalized < thresold] = 0\n",
    "\n",
    "        fig, axes = plt.subplots(1,3, figsize = (12,12))\n",
    "        axes[0].imshow(input_img, cmap = plt.cm.binary)\n",
    "        axes[0].set_title(\"input image\")\n",
    "        axes[1].imshow(output_img, cmap = plt.cm.binary)\n",
    "        axes[1].set_title(\"output image\")\n",
    "        axes[2].imshow(output_img_binalized, cmap = plt.cm.binary)\n",
    "        axes[2].set_title(\"output image with biinalization\")"
   ]
  },
  {
   "cell_type": "code",
   "execution_count": 206,
   "metadata": {},
   "outputs": [],
   "source": [
    "autoencoder = AE(optimizer = \"rmsprop\", loss = keras.losses.mean_squared_error)"
   ]
  },
  {
   "cell_type": "markdown",
   "metadata": {},
   "source": [
    "## モデル"
   ]
  },
  {
   "cell_type": "code",
   "execution_count": 168,
   "metadata": {},
   "outputs": [
    {
     "name": "stdout",
     "output_type": "stream",
     "text": [
      "_________________________________________________________________\n",
      "Layer (type)                 Output Shape              Param #   \n",
      "=================================================================\n",
      "dense_33 (Dense)             (None, 25)                250       \n",
      "_________________________________________________________________\n",
      "dense_34 (Dense)             (None, 16)                416       \n",
      "=================================================================\n",
      "Total params: 666\n",
      "Trainable params: 666\n",
      "Non-trainable params: 0\n",
      "_________________________________________________________________\n"
     ]
    }
   ],
   "source": [
    "autoencoder.model.summary()"
   ]
  },
  {
   "cell_type": "markdown",
   "metadata": {},
   "source": [
    "## 学習"
   ]
  },
  {
   "cell_type": "code",
   "execution_count": 169,
   "metadata": {},
   "outputs": [
    {
     "name": "stdout",
     "output_type": "stream",
     "text": [
      "Train on 983040 samples, validate on 983040 samples\n",
      "Epoch 1/3\n",
      "983040/983040 [==============================] - 9s 9us/step - loss: 0.1847 - acc: 0.0414 - val_loss: 0.1802 - val_acc: 0.0384\n",
      "Epoch 2/3\n",
      "983040/983040 [==============================] - 8s 9us/step - loss: 0.1803 - acc: 0.0421 - val_loss: 0.1804 - val_acc: 0.0383\n",
      "Epoch 3/3\n",
      "983040/983040 [==============================] - 9s 9us/step - loss: 0.1802 - acc: 0.0415 - val_loss: 0.1802 - val_acc: 0.0486\n"
     ]
    }
   ],
   "source": [
    "autoencoder.fit(epochs = 3, batch_size=256)"
   ]
  },
  {
   "cell_type": "markdown",
   "metadata": {},
   "source": [
    "## 予測"
   ]
  },
  {
   "cell_type": "code",
   "execution_count": 171,
   "metadata": {},
   "outputs": [
    {
     "name": "stdout",
     "output_type": "stream",
     "text": [
      "[[0.23294014 0.5290397  0.50357234 0.18916354]\n",
      " [0.         0.5672599  0.7212747  0.        ]\n",
      " [0.40556836 0.59507126 0.2444427  0.1574237 ]\n",
      " [0.7739802  0.49625483 0.0551472  0.4002543 ]] [[0. 1. 1. 0.]\n",
      " [0. 1. 1. 0.]\n",
      " [0. 1. 0. 0.]\n",
      " [1. 0. 0. 0.]]\n"
     ]
    },
    {
     "data": {
      "image/png": "[encoded data removed]",
      "text/plain": [
       "<Figure size 1008x1008 with 5 Axes>"
      ]
     },
     "metadata": {
      "needs_background": "light"
     },
     "output_type": "display_data"
    }
   ],
   "source": [
    "test_img = np.array([[0,1,0,0,1,0,1,0,0]])\n",
    "threshold = 0.5\n",
    "autoencoder.predict(test_img, threshold)"
   ]
  },
  {
   "cell_type": "markdown",
   "metadata": {},
   "source": [
    "## より大きな画像で超解像を行う\n",
    "\n",
    "### 仕様\n",
    "- `input_img` \n",
    "    - (3 x n, 3 x m) dimention\n",
    "    - from 0 to 1 \n",
    "    \n",
    "- `output_img`\n",
    "    - (4 x n, 4 x m) dimention\n",
    "    - 0 or 1 binalized\n",
    "    \n",
    "- `thresold`"
   ]
  },
  {
   "cell_type": "code",
   "execution_count": 172,
   "metadata": {},
   "outputs": [
    {
     "data": {
      "text/plain": [
       "Text(0.5, 1.0, 'output image with biinalization')"
      ]
     },
     "execution_count": 172,
     "metadata": {},
     "output_type": "execute_result"
    },
    {
     "data": {
      "image/png": "[encoded data removed]",
      "text/plain": [
       "<Figure size 864x864 with 3 Axes>"
      ]
     },
     "metadata": {
      "needs_background": "light"
     },
     "output_type": "display_data"
    }
   ],
   "source": [
    "# n = 4\n",
    "# m = 4\n",
    "thresold = 0.5\n",
    "\n",
    "input_img = np.random.randint(0, 2, (15,15), dtype='int64')\n",
    "x, y = input_img.shape\n",
    "n, m = int( x / 3 ), int( y / 3 )\n",
    "output_img = np.empty((4 * n , 4 * m), dtype='float64')\n",
    "\n",
    "for i, j in iter.product(range(n), range(m)):\n",
    "    partial_img = input_img.copy()[ 3 * j : 3 * (j + 1), 3 * i : 3 * ( i + 1)] \n",
    "    partial_img = autoencoder.model.predict(partial_img.reshape(1,9))\n",
    "    output_img[4 * j : 4 * (j + 1), 4 * i : 4 * ( i + 1)] = partial_img.reshape(4,4)\n",
    "\n",
    "output_img_binalized = output_img.copy()\n",
    "output_img_binalized[output_img_binalized >= thresold] = 1\n",
    "output_img_binalized[output_img_binalized < thresold] = 0\n",
    "\n",
    "fig, axes = plt.subplots(1,3, figsize = (12,12))\n",
    "axes[0].imshow(input_img, cmap = plt.cm.binary)\n",
    "axes[0].set_title(\"input image\")\n",
    "axes[1].imshow(output_img, cmap = plt.cm.binary)\n",
    "axes[1].set_title(\"output image\")\n",
    "axes[2].imshow(output_img_binalized, cmap = plt.cm.binary)\n",
    "axes[2].set_title(\"output image with biinalization\")"
   ]
  },
  {
   "cell_type": "markdown",
   "metadata": {},
   "source": [
    "### メソッド版"
   ]
  },
  {
   "cell_type": "code",
   "execution_count": 207,
   "metadata": {},
   "outputs": [
    {
     "ename": "ValueError",
     "evalue": "could not broadcast input array from shape (4,4) into shape (0,4)",
     "output_type": "error",
     "traceback": [
      "\u001b[0;31m---------------------------------------------------------------------------\u001b[0m",
      "\u001b[0;31mValueError\u001b[0m                                Traceback (most recent call last)",
      "\u001b[0;32m<ipython-input-207-6c82eb34acd8>\u001b[0m in \u001b[0;36m<module>\u001b[0;34m\u001b[0m\n\u001b[1;32m      2\u001b[0m \u001b[0minput_img\u001b[0m \u001b[0;34m=\u001b[0m \u001b[0mnp\u001b[0m\u001b[0;34m.\u001b[0m\u001b[0marray\u001b[0m\u001b[0;34m(\u001b[0m\u001b[0mImage\u001b[0m\u001b[0;34m.\u001b[0m\u001b[0mopen\u001b[0m\u001b[0;34m(\u001b[0m\u001b[0;34m\"img/img1.jpeg\"\u001b[0m\u001b[0;34m)\u001b[0m\u001b[0;34m,\u001b[0m \u001b[0;34m\"f\"\u001b[0m\u001b[0;34m)\u001b[0m\u001b[0;34m/\u001b[0m\u001b[0;36m255\u001b[0m\u001b[0;34m\u001b[0m\u001b[0m\n\u001b[1;32m      3\u001b[0m \u001b[0minput_img\u001b[0m\u001b[0;34m.\u001b[0m\u001b[0mshape\u001b[0m\u001b[0;34m\u001b[0m\u001b[0m\n\u001b[0;32m----> 4\u001b[0;31m \u001b[0mautoencoder\u001b[0m\u001b[0;34m.\u001b[0m\u001b[0mSR\u001b[0m\u001b[0;34m(\u001b[0m\u001b[0minput_img\u001b[0m\u001b[0;34m[\u001b[0m \u001b[0;34m:\u001b[0m \u001b[0;34m,\u001b[0m \u001b[0;34m:\u001b[0m \u001b[0;34m,\u001b[0m\u001b[0;36m1\u001b[0m\u001b[0;34m]\u001b[0m\u001b[0;34m,\u001b[0m \u001b[0;36m0.5\u001b[0m\u001b[0;34m)\u001b[0m\u001b[0;34m\u001b[0m\u001b[0m\n\u001b[0m",
      "\u001b[0;32m<ipython-input-205-f49825bd004f>\u001b[0m in \u001b[0;36mSR\u001b[0;34m(self, input_img, thresold)\u001b[0m\n\u001b[1;32m     82\u001b[0m             \u001b[0mpartial_img\u001b[0m \u001b[0;34m=\u001b[0m \u001b[0minput_img\u001b[0m\u001b[0;34m.\u001b[0m\u001b[0mcopy\u001b[0m\u001b[0;34m(\u001b[0m\u001b[0;34m)\u001b[0m\u001b[0;34m[\u001b[0m \u001b[0;36m3\u001b[0m \u001b[0;34m*\u001b[0m \u001b[0mj\u001b[0m \u001b[0;34m:\u001b[0m \u001b[0;36m3\u001b[0m \u001b[0;34m*\u001b[0m \u001b[0;34m(\u001b[0m \u001b[0mj\u001b[0m \u001b[0;34m+\u001b[0m \u001b[0;36m1\u001b[0m \u001b[0;34m)\u001b[0m\u001b[0;34m,\u001b[0m \u001b[0;36m3\u001b[0m \u001b[0;34m*\u001b[0m \u001b[0mi\u001b[0m \u001b[0;34m:\u001b[0m \u001b[0;36m3\u001b[0m \u001b[0;34m*\u001b[0m \u001b[0;34m(\u001b[0m \u001b[0mi\u001b[0m \u001b[0;34m+\u001b[0m \u001b[0;36m1\u001b[0m\u001b[0;34m)\u001b[0m\u001b[0;34m]\u001b[0m\u001b[0;34m\u001b[0m\u001b[0m\n\u001b[1;32m     83\u001b[0m             \u001b[0mpartial_img\u001b[0m \u001b[0;34m=\u001b[0m \u001b[0mself\u001b[0m\u001b[0;34m.\u001b[0m\u001b[0mmodel\u001b[0m\u001b[0;34m.\u001b[0m\u001b[0mpredict\u001b[0m\u001b[0;34m(\u001b[0m \u001b[0mpartial_img\u001b[0m\u001b[0;34m.\u001b[0m\u001b[0mreshape\u001b[0m\u001b[0;34m(\u001b[0m\u001b[0;36m1\u001b[0m\u001b[0;34m,\u001b[0m\u001b[0;36m9\u001b[0m\u001b[0;34m)\u001b[0m \u001b[0;34m)\u001b[0m\u001b[0;34m\u001b[0m\u001b[0m\n\u001b[0;32m---> 84\u001b[0;31m             \u001b[0moutput_img\u001b[0m\u001b[0;34m[\u001b[0m\u001b[0;36m4\u001b[0m \u001b[0;34m*\u001b[0m \u001b[0mj\u001b[0m \u001b[0;34m:\u001b[0m \u001b[0;36m4\u001b[0m \u001b[0;34m*\u001b[0m \u001b[0;34m(\u001b[0m\u001b[0mj\u001b[0m \u001b[0;34m+\u001b[0m \u001b[0;36m1\u001b[0m\u001b[0;34m)\u001b[0m\u001b[0;34m,\u001b[0m \u001b[0;36m4\u001b[0m \u001b[0;34m*\u001b[0m \u001b[0mi\u001b[0m \u001b[0;34m:\u001b[0m \u001b[0;36m4\u001b[0m \u001b[0;34m*\u001b[0m \u001b[0;34m(\u001b[0m \u001b[0mi\u001b[0m \u001b[0;34m+\u001b[0m \u001b[0;36m1\u001b[0m\u001b[0;34m)\u001b[0m\u001b[0;34m]\u001b[0m \u001b[0;34m=\u001b[0m \u001b[0mpartial_img\u001b[0m\u001b[0;34m.\u001b[0m\u001b[0mreshape\u001b[0m\u001b[0;34m(\u001b[0m\u001b[0;36m4\u001b[0m\u001b[0;34m,\u001b[0m\u001b[0;36m4\u001b[0m\u001b[0;34m)\u001b[0m\u001b[0;34m\u001b[0m\u001b[0m\n\u001b[0m\u001b[1;32m     85\u001b[0m         \u001b[0moutput_img_binalized\u001b[0m \u001b[0;34m=\u001b[0m \u001b[0moutput_img\u001b[0m\u001b[0;34m.\u001b[0m\u001b[0mcopy\u001b[0m\u001b[0;34m(\u001b[0m\u001b[0;34m)\u001b[0m\u001b[0;34m\u001b[0m\u001b[0m\n\u001b[1;32m     86\u001b[0m         \u001b[0moutput_img_binalized\u001b[0m\u001b[0;34m[\u001b[0m\u001b[0moutput_img_binalized\u001b[0m \u001b[0;34m>=\u001b[0m \u001b[0mthresold\u001b[0m\u001b[0;34m]\u001b[0m \u001b[0;34m=\u001b[0m \u001b[0;36m1\u001b[0m\u001b[0;34m\u001b[0m\u001b[0m\n",
      "\u001b[0;31mValueError\u001b[0m: could not broadcast input array from shape (4,4) into shape (0,4)"
     ]
    }
   ],
   "source": [
    "#input_img = np.random.randint(0,2, (15,15), dtype='int16')\n",
    "input_img = np.array(Image.open(\"img/img1.jpeg\"), \"f\")/255\n",
    "input_img.shape\n",
    "autoencoder.SR(input_img[ : , : ,1], 0.5)"
   ]
  },
  {
   "cell_type": "markdown",
   "metadata": {},
   "source": [
    "## ベイズルールによる結果"
   ]
  },
  {
   "cell_type": "code",
   "execution_count": 7,
   "metadata": {},
   "outputs": [],
   "source": [
    "index_when_given_q = np.all(autoencoder.q_matrix == test_img, axis = 1)\n",
    "p_given_q = autoencoder.p_matrix[index_when_given_q]"
   ]
  },
  {
   "cell_type": "code",
   "execution_count": 8,
   "metadata": {},
   "outputs": [
    {
     "data": {
      "image/png": "[encoded data removed]",
      "text/plain": [
       "<Figure size 432x288 with 16 Axes>"
      ]
     },
     "metadata": {
      "needs_background": "light"
     },
     "output_type": "display_data"
    }
   ],
   "source": [
    "n = 16\n",
    "for i in range(n):\n",
    "    ax = plt.subplot(4, 4, i+1)\n",
    "    plt.hist([p_given_q[j][i] for j in range(p_given_q.shape[0])], bins = [0,1,2])"
   ]
  },
  {
   "cell_type": "code",
   "execution_count": 9,
   "metadata": {},
   "outputs": [],
   "source": [
    "n = 16\n",
    "bayes_image = np.empty(n)\n",
    "for i in range(n):\n",
    "    is_one_counter = 0\n",
    "    target_list = [p_given_q[j][i] for j in range(p_given_q.shape[0])]\n",
    "    total_length = len(target_list)\n",
    "    \n",
    "    for j in range(total_length):\n",
    "        if target_list[j] == 1:\n",
    "            is_one_counter += 1\n",
    "    prob = is_one_counter / total_length\n",
    "    bayes_image[i] = prob"
   ]
  },
  {
   "cell_type": "code",
   "execution_count": 10,
   "metadata": {},
   "outputs": [
    {
     "data": {
      "text/plain": [
       "array([0.2654321 , 0.39969136, 0.85339506, 0.6867284 , 0.06018519,\n",
       "       0.42283951, 0.92592593, 0.16820988, 0.25154321, 0.74845679,\n",
       "       0.05092593, 0.13117284, 0.85802469, 0.3117284 , 0.13580247,\n",
       "       0.41049383])"
      ]
     },
     "execution_count": 10,
     "metadata": {},
     "output_type": "execute_result"
    }
   ],
   "source": [
    "bayes_image"
   ]
  },
  {
   "cell_type": "code",
   "execution_count": 11,
   "metadata": {},
   "outputs": [
    {
     "data": {
      "text/plain": [
       "<matplotlib.image.AxesImage at 0xb485611d0>"
      ]
     },
     "execution_count": 11,
     "metadata": {},
     "output_type": "execute_result"
    },
    {
     "data": {
      "image/png": "[encoded data removed]",
      "text/plain": [
       "<Figure size 432x288 with 1 Axes>"
      ]
     },
     "metadata": {
      "needs_background": "light"
     },
     "output_type": "display_data"
    }
   ],
   "source": [
    "plt.imshow(bayes_image.reshape(4,4), cmap = plt.cm.binary)"
   ]
  },
  {
   "cell_type": "code",
   "execution_count": 198,
   "metadata": {},
   "outputs": [
    {
     "name": "stdout",
     "output_type": "stream",
     "text": [
      "(6, 6)\n"
     ]
    }
   ],
   "source": [
    "test = np.random.randint(0,2,(6,4))\n",
    "x, y = test.shape\n",
    "xy = 0 #count x = 0, y = 1\n",
    "pad_list = []\n",
    "for i in [x, y]:\n",
    "    if i % 3 == 0:\n",
    "        pad_list.append(0)\n",
    "    elif i % 3 == 1:\n",
    "        pad_list.append(2)\n",
    "    else:\n",
    "        pad_list.append(1)\n",
    "    xy += 1\n",
    "\n",
    "test_ = np.zeros((x + pad_list[0], y + pad_list[1]))\n",
    "print(test_.shape)"
   ]
  },
  {
   "cell_type": "code",
   "execution_count": 186,
   "metadata": {},
   "outputs": [
    {
     "name": "stdout",
     "output_type": "stream",
     "text": [
      "6\n",
      "4\n"
     ]
    }
   ],
   "source": [
    "for i in [x, y]:\n",
    "    print(i)"
   ]
  },
  {
   "cell_type": "code",
   "execution_count": null,
   "metadata": {},
   "outputs": [],
   "source": []
  }
 ],
 "metadata": {
  "kernelspec": {
   "display_name": "Python 3",
   "language": "python",
   "name": "python3"
  },
  "language_info": {
   "codemirror_mode": {
    "name": "ipython",
    "version": 3
   },
   "file_extension": ".py",
   "mimetype": "text/x-python",
   "name": "python",
   "nbconvert_exporter": "python",
   "pygments_lexer": "ipython3",
   "version": "3.6.6"
  }
 },
 "nbformat": 4,
 "nbformat_minor": 2
}
