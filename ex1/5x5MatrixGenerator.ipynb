{
 "cells": [
  {
   "cell_type": "code",
   "execution_count": 3,
   "metadata": {},
   "outputs": [],
   "source": [
    "import numpy as np\n",
    "import pandas as pd\n",
    "import matplotlib.pyplot as plt\n",
    "import itertools as iter\n",
    "from progressbar import ProgressBar\n",
    "from multiprocessing import Pool\n",
    "from threading import Thread"
   ]
  },
  {
   "cell_type": "code",
   "execution_count": 44,
   "metadata": {},
   "outputs": [
    {
     "name": "stderr",
     "output_type": "stream",
     "text": [
      "/ |      #                                    | 536867378 Elapsed Time: 1:05:56"
     ]
    }
   ],
   "source": [
    "combinations = int(2**25 * (2 ** 4))\n",
    "p_matrix = np.empty((combinations, 25), dtype='float16')\n",
    "q_matrix = np.empty((combinations, 16), dtype='float16')\n",
    "p_count = 0\n",
    "count = 0\n",
    "p = ProgressBar(combinations - 1)\n",
    "\n",
    "for p_11, p_12, p_13, p_14, p_15, p_21, p_22, p_23, p_24, p_25, p_31, p_32, p_33, p_34, p_35, p_41, p_42, p_43, p_44, p_45, p_51, p_52, p_53, p_54, p_55 in iter.product([0,1],[0,1],[0,1],[0,1],[0,1],[0,1],[0,1],[0,1],[0,1],[0,1],[0,1],[0,1],[0,1],[0,1],[0,1],[0,1],[0,1],[0,1],[0,1],[0,1],[0,1],[0,1],[0,1],[0,1],[0,1]):\n",
    "    p_matrix[p_count * (2 ** 4) : (p_count + 1) * (2 ** 4)] = np.array([p_11, p_12, p_13, p_14, p_15, p_21, p_22, p_23, p_24, p_25, p_31, p_32, p_33, p_34, p_35, p_41, p_42, p_43, p_44, p_45, p_51, p_52, p_53, p_54, p_55])\n",
    "    p_count += 1\n",
    "    for a_11, a_12, a_21, a_22 in iter.product([0.5,1],[0.5,1],[0.5,1],[0.5,1]):\n",
    "        q_matrix[count] = np.array([\n",
    "            p_11 * a_11 + p_12 * a_12 + p_21 * a_21 + p_22 * a_22,\n",
    "            p_12 * a_11 + p_13 * a_12 + p_22 * a_21 + p_23 * a_22,\n",
    "            p_13 * a_11 + p_14 * a_12 + p_23 * a_21 + p_24 * a_22,                      \n",
    "            p_14 * a_11 + p_15 * a_12 + p_24 * a_21 + p_25 * a_22,                      \n",
    "            p_21 * a_11 + p_22 * a_12 + p_31 * a_21 + p_32 * a_22,\n",
    "            p_22 * a_11 + p_23 * a_12 + p_32 * a_21 + p_33 * a_22,\n",
    "            p_23 * a_11 + p_24 * a_12 + p_33 * a_21 + p_34 * a_22,\n",
    "            p_24 * a_11 + p_25 * a_12 + p_34 * a_21 + p_35 * a_22,\n",
    "            p_31 * a_11 + p_32 * a_12 + p_41 * a_21 + p_42 * a_22,\n",
    "            p_32 * a_11 + p_33 * a_12 + p_42 * a_21 + p_43 * a_22,\n",
    "            p_33 * a_11 + p_34 * a_12 + p_43 * a_21 + p_44 * a_22,\n",
    "            p_34 * a_11 + p_35 * a_12 + p_44 * a_21 + p_45 * a_22,\n",
    "            p_41 * a_11 + p_42 * a_12 + p_51 * a_21 + p_52 * a_22,\n",
    "            p_42 * a_11 + p_43 * a_12 + p_52 * a_21 + p_53 * a_22,\n",
    "            p_43 * a_11 + p_44 * a_12 + p_53 * a_21 + p_54 * a_22,\n",
    "            p_44 * a_11 + p_45 * a_12 + p_54 * a_21 + p_55 * a_22\n",
    "            ])\n",
    "        count += 1\n",
    "        p.update(count + 1)            \n",
    "q_matrix[q_matrix <= 1] = 0\n",
    "q_matrix[q_matrix > 1] = 1"
   ]
  },
  {
   "cell_type": "code",
   "execution_count": 45,
   "metadata": {},
   "outputs": [
    {
     "name": "stdout",
     "output_type": "stream",
     "text": [
      "CPU times: user 8min 59s, sys: 1min 28s, total: 10min 28s\n",
      "Wall time: 11min 41s\n"
     ]
    }
   ],
   "source": [
    "%time np.savez_compressed('5x5matrix', p_matrix = p_matrix, q_matrix = q_matrix)"
   ]
  }
 ],
 "metadata": {
  "kernelspec": {
   "display_name": "Python 3",
   "language": "python",
   "name": "python3"
  },
  "language_info": {
   "codemirror_mode": {
    "name": "ipython",
    "version": 3
   },
   "file_extension": ".py",
   "mimetype": "text/x-python",
   "name": "python",
   "nbconvert_exporter": "python",
   "pygments_lexer": "ipython3",
   "version": "3.6.6"
  }
 },
 "nbformat": 4,
 "nbformat_minor": 2
}
