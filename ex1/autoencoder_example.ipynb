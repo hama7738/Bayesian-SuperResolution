{
 "cells": [
  {
   "cell_type": "code",
   "execution_count": 1,
   "metadata": {},
   "outputs": [
    {
     "name": "stderr",
     "output_type": "stream",
     "text": [
      "Using TensorFlow backend.\n"
     ]
    }
   ],
   "source": [
    "import numpy as np\n",
    "import pandas as pd\n",
    "import matplotlib.pyplot as plt\n",
    "\n",
    "import tensorflow as tf\n",
    "\n",
    "from tensorflow import keras\n",
    "from keras.models import Sequential\n",
    "from keras.layers import Dense, Activation, Dropout\n",
    "\n",
    "%matplotlib inline"
   ]
  },
  {
   "cell_type": "code",
   "execution_count": 35,
   "metadata": {},
   "outputs": [],
   "source": [
    "class AE():\n",
    "    def __init__(self, optimizer='rmsprop', loss='mean_squared_error', input_data_path=\"../4x4matrix.csv\"):\n",
    "        self.p_matrix = np.load(\"4x4matrix.npz\")[\"p_matrix\"]\n",
    "        self.q_matrix = np.load(\"4x4matrix.npz\")[\"q_matrix\"]\n",
    "        self.optimizer = optimizer\n",
    "        self.model = Sequential()\n",
    "        self.model.add( Dense(16, activation = 'relu', input_dim = 9) )\n",
    "        self.model.add( Dense(16, activation = 'relu') )\n",
    "        #self.model.add( Dense(16, activation = 'hard_sigmoid') )\n",
    "        self.model.add( Dropout(0.2) )\n",
    "        self.model.add( Dense(16, activation = 'relu') )\n",
    "        self.model.add( Dropout(0.2) )\n",
    "        self.model.add( Dense(16, activation = 'relu') )\n",
    "        self.model.add( Dropout(0.2) )\n",
    "        self.model.add( Dense(16, activation = 'relu') )\n",
    "        #self.model.add( Dense(16, activation = keras.layers.ReLU(max_value=1, negative_slope=0, threshold = 0)) )\n",
    "        #self.model.add( Dense(16, activation = keras.layers.ReLU(max_value=1, negative_slope=0, threshold = 0)) )\n",
    "        self.model.compile(optimizer = optimizer,\n",
    "                           loss = loss,\n",
    "                           metrics = ['accuracy'])\n",
    "        \n",
    "    def fit(self, epochs='4', batch_size='256'):\n",
    "        self.model.fit(self.q_matrix, self.p_matrix,\n",
    "                      epochs = epochs,\n",
    "                      batch_size = batch_size,\n",
    "                      validation_data = (self.q_matrix, self.p_matrix))\n",
    "    \n",
    "    def predict(self, test_img):\n",
    "        self.preds = self.model.predict(test_img).reshape(4,4)\n",
    "        self.preds_binary = self.preds.copy()\n",
    "        self.preds_binary[self.preds_binary < 0.5] = 0\n",
    "        self.preds_binary[self.preds_binary >= 0.5] = 1\n",
    "        print(self.preds, self.preds_binary)\n",
    "        self.fig, self.axes = plt.subplots(nrows = 1, ncols = 3, figsize = (14,14))\n",
    "        self.axes[0].imshow(test_img.reshape(3,3), cmap = plt.cm.binary)\n",
    "        self.axes[0].set_title(\"original image\")\n",
    "        self.axes[1].imshow(self.preds, cmap = plt.cm.binary)\n",
    "        self.axes[1].set_title(\"predicted image\")\n",
    "        self.axes[2].imshow(self.preds_binary, cmap = plt.cm.binary)\n",
    "        self.axes[2].set_title(\"predicted image with binalization\")"
   ]
  },
  {
   "cell_type": "code",
   "execution_count": 36,
   "metadata": {},
   "outputs": [],
   "source": [
    "autoencoder = AE(\"rmsprop\", \"mean_squared_error\")"
   ]
  },
  {
   "cell_type": "code",
   "execution_count": 37,
   "metadata": {},
   "outputs": [
    {
     "name": "stdout",
     "output_type": "stream",
     "text": [
      "_________________________________________________________________\n",
      "Layer (type)                 Output Shape              Param #   \n",
      "=================================================================\n",
      "dense_18 (Dense)             (None, 16)                160       \n",
      "_________________________________________________________________\n",
      "dense_19 (Dense)             (None, 16)                272       \n",
      "_________________________________________________________________\n",
      "dropout_8 (Dropout)          (None, 16)                0         \n",
      "_________________________________________________________________\n",
      "dense_20 (Dense)             (None, 16)                272       \n",
      "_________________________________________________________________\n",
      "dropout_9 (Dropout)          (None, 16)                0         \n",
      "_________________________________________________________________\n",
      "dense_21 (Dense)             (None, 16)                272       \n",
      "_________________________________________________________________\n",
      "dropout_10 (Dropout)         (None, 16)                0         \n",
      "_________________________________________________________________\n",
      "dense_22 (Dense)             (None, 16)                272       \n",
      "=================================================================\n",
      "Total params: 1,248\n",
      "Trainable params: 1,248\n",
      "Non-trainable params: 0\n",
      "_________________________________________________________________\n"
     ]
    }
   ],
   "source": [
    "autoencoder.model.summary()"
   ]
  },
  {
   "cell_type": "code",
   "execution_count": 38,
   "metadata": {},
   "outputs": [
    {
     "name": "stdout",
     "output_type": "stream",
     "text": [
      "Train on 5308416 samples, validate on 5308416 samples\n",
      "Epoch 1/5\n",
      "5308416/5308416 [==============================] - 94s 18us/step - loss: 0.2299 - acc: 0.0561 - val_loss: 0.2186 - val_acc: 0.0599\n",
      "Epoch 2/5\n",
      "5308416/5308416 [==============================] - 98s 19us/step - loss: 0.2264 - acc: 0.0601 - val_loss: 0.2177 - val_acc: 0.0418\n",
      "Epoch 3/5\n",
      "5308416/5308416 [==============================] - 92s 17us/step - loss: 0.2263 - acc: 0.0600 - val_loss: 0.2176 - val_acc: 0.0363\n",
      "Epoch 4/5\n",
      "5308416/5308416 [==============================] - 102s 19us/step - loss: 0.2263 - acc: 0.0574 - val_loss: 0.2176 - val_acc: 0.0447\n",
      "Epoch 5/5\n",
      "5308416/5308416 [==============================] - 100s 19us/step - loss: 0.2264 - acc: 0.0661 - val_loss: 0.2180 - val_acc: 0.0652\n"
     ]
    }
   ],
   "source": [
    "autoencoder.fit(epochs = 5, batch_size=256)"
   ]
  },
  {
   "cell_type": "code",
   "execution_count": 44,
   "metadata": {},
   "outputs": [
    {
     "name": "stdout",
     "output_type": "stream",
     "text": [
      "[[0.67572707 0.77227473 0.4825897  0.38194472]\n",
      " [0.5099146  0.5764384  0.2957374  0.2331096 ]\n",
      " [0.4793204  0.51600266 0.5018861  0.4665229 ]\n",
      " [0.65186787 0.70661414 0.67517287 0.6228017 ]] [[1. 1. 0. 0.]\n",
      " [1. 1. 0. 0.]\n",
      " [0. 1. 1. 0.]\n",
      " [1. 1. 1. 1.]]\n"
     ]
    },
    {
     "data": {
      "image/png": "[encoded data removed]",
      "text/plain": [
       "<Figure size 1008x1008 with 3 Axes>"
      ]
     },
     "metadata": {
      "needs_background": "light"
     },
     "output_type": "display_data"
    }
   ],
   "source": [
    "test_img = np.array([[1,1,0,0,0,0,1,1,1]])\n",
    "autoencoder.predict(test_img)"
   ]
  },
  {
   "cell_type": "code",
   "execution_count": 48,
   "metadata": {},
   "outputs": [],
   "source": [
    "_all = np.all(autoencoder.q_matrix == test_img, axis = 1)"
   ]
  },
  {
   "cell_type": "code",
   "execution_count": 32,
   "metadata": {},
   "outputs": [],
   "source": [
    "_all = np.where(_all == True)"
   ]
  },
  {
   "cell_type": "code",
   "execution_count": 37,
   "metadata": {},
   "outputs": [],
   "source": [
    "p_given_q = autoencoder.p_matrix[_all]"
   ]
  },
  {
   "cell_type": "code",
   "execution_count": 38,
   "metadata": {},
   "outputs": [
    {
     "data": {
      "text/plain": [
       "([array([1106.,    0.,    0.,    0.,    0.,    0.,    0.,    0.,    0.,\n",
       "         1551.]),\n",
       "  array([ 903.,    0.,    0.,    0.,    0.,    0.,    0.,    0.,    0.,\n",
       "         1754.]),\n",
       "  array([ 845.,    0.,    0.,    0.,    0.,    0.,    0.,    0.,    0.,\n",
       "         1812.]),\n",
       "  array([1054.,    0.,    0.,    0.,    0.,    0.,    0.,    0.,    0.,\n",
       "         1603.]),\n",
       "  array([ 401.,    0.,    0.,    0.,    0.,    0.,    0.,    0.,    0.,\n",
       "         2256.]),\n",
       "  array([ 126.,    0.,    0.,    0.,    0.,    0.,    0.,    0.,    0.,\n",
       "         2531.]),\n",
       "  array([ 248.,    0.,    0.,    0.,    0.,    0.,    0.,    0.,    0.,\n",
       "         2409.]),\n",
       "  array([ 785.,    0.,    0.,    0.,    0.,    0.,    0.,    0.,    0.,\n",
       "         1872.]),\n",
       "  array([1387.,    0.,    0.,    0.,    0.,    0.,    0.,    0.,    0.,\n",
       "         1270.]),\n",
       "  array([1968.,    0.,    0.,    0.,    0.,    0.,    0.,    0.,    0.,\n",
       "          689.]),\n",
       "  array([ 944.,    0.,    0.,    0.,    0.,    0.,    0.,    0.,    0.,\n",
       "         1713.]),\n",
       "  array([ 559.,    0.,    0.,    0.,    0.,    0.,    0.,    0.,    0.,\n",
       "         2098.]),\n",
       "  array([1959.,    0.,    0.,    0.,    0.,    0.,    0.,    0.,    0.,\n",
       "          698.]),\n",
       "  array([2435.,    0.,    0.,    0.,    0.,    0.,    0.,    0.,    0.,\n",
       "          222.]),\n",
       "  array([1705.,    0.,    0.,    0.,    0.,    0.,    0.,    0.,    0.,\n",
       "          952.]),\n",
       "  array([ 725.,    0.,    0.,    0.,    0.,    0.,    0.,    0.,    0.,\n",
       "         1932.])],\n",
       " array([0. , 0.1, 0.2, 0.3, 0.4, 0.5, 0.6, 0.7, 0.8, 0.9, 1. ]),\n",
       " <a list of 16 Lists of Patches objects>)"
      ]
     },
     "execution_count": 38,
     "metadata": {},
     "output_type": "execute_result"
    },
    {
     "data": {
      "image/png": "[encoded data removed]",
      "text/plain": [
       "<Figure size 432x288 with 1 Axes>"
      ]
     },
     "metadata": {
      "needs_background": "light"
     },
     "output_type": "display_data"
    }
   ],
   "source": [
    "plt.figure()\n",
    "plt.hist(p_given_q)"
   ]
  },
  {
   "cell_type": "code",
   "execution_count": 47,
   "metadata": {},
   "outputs": [
    {
     "data": {
      "text/plain": [
       "([array([1106.,    0.,    0.,    0.,    0.,    0.,    0.,    0.,    0.,\n",
       "         1551.]),\n",
       "  array([ 903.,    0.,    0.,    0.,    0.,    0.,    0.,    0.,    0.,\n",
       "         1754.]),\n",
       "  array([ 845.,    0.,    0.,    0.,    0.,    0.,    0.,    0.,    0.,\n",
       "         1812.]),\n",
       "  array([1054.,    0.,    0.,    0.,    0.,    0.,    0.,    0.,    0.,\n",
       "         1603.]),\n",
       "  array([ 401.,    0.,    0.,    0.,    0.,    0.,    0.,    0.,    0.,\n",
       "         2256.]),\n",
       "  array([ 126.,    0.,    0.,    0.,    0.,    0.,    0.,    0.,    0.,\n",
       "         2531.]),\n",
       "  array([ 248.,    0.,    0.,    0.,    0.,    0.,    0.,    0.,    0.,\n",
       "         2409.]),\n",
       "  array([ 785.,    0.,    0.,    0.,    0.,    0.,    0.,    0.,    0.,\n",
       "         1872.]),\n",
       "  array([1387.,    0.,    0.,    0.,    0.,    0.,    0.,    0.,    0.,\n",
       "         1270.]),\n",
       "  array([1968.,    0.,    0.,    0.,    0.,    0.,    0.,    0.,    0.,\n",
       "          689.]),\n",
       "  array([ 944.,    0.,    0.,    0.,    0.,    0.,    0.,    0.,    0.,\n",
       "         1713.]),\n",
       "  array([ 559.,    0.,    0.,    0.,    0.,    0.,    0.,    0.,    0.,\n",
       "         2098.]),\n",
       "  array([1959.,    0.,    0.,    0.,    0.,    0.,    0.,    0.,    0.,\n",
       "          698.]),\n",
       "  array([2435.,    0.,    0.,    0.,    0.,    0.,    0.,    0.,    0.,\n",
       "          222.]),\n",
       "  array([1705.,    0.,    0.,    0.,    0.,    0.,    0.,    0.,    0.,\n",
       "          952.]),\n",
       "  array([ 725.,    0.,    0.,    0.,    0.,    0.,    0.,    0.,    0.,\n",
       "         1932.])],\n",
       " array([0. , 0.1, 0.2, 0.3, 0.4, 0.5, 0.6, 0.7, 0.8, 0.9, 1. ]),\n",
       " <a list of 16 Lists of Patches objects>)"
      ]
     },
     "execution_count": 47,
     "metadata": {},
     "output_type": "execute_result"
    },
    {
     "data": {
      "image/png": "[encoded data removed]",
      "text/plain": [
       "<Figure size 432x288 with 1 Axes>"
      ]
     },
     "metadata": {
      "needs_background": "light"
     },
     "output_type": "display_data"
    }
   ],
   "source": [
    "test_data = ['a', 'b', 'a']\n",
    "plt.figure()\n",
    "plt.hist(p_given_q)"
   ]
  },
  {
   "cell_type": "code",
   "execution_count": 40,
   "metadata": {},
   "outputs": [
    {
     "data": {
      "text/plain": [
       "array([[0., 0., 0., ..., 0., 1., 1.],\n",
       "       [0., 0., 0., ..., 0., 1., 1.],\n",
       "       [0., 0., 0., ..., 0., 0., 1.],\n",
       "       ...,\n",
       "       [1., 1., 1., ..., 0., 0., 1.],\n",
       "       [1., 1., 1., ..., 0., 0., 1.],\n",
       "       [1., 1., 1., ..., 0., 1., 1.]])"
      ]
     },
     "execution_count": 40,
     "metadata": {},
     "output_type": "execute_result"
    }
   ],
   "source": [
    "p_given_q"
   ]
  },
  {
   "cell_type": "code",
   "execution_count": null,
   "metadata": {},
   "outputs": [],
   "source": []
  },
  {
   "cell_type": "code",
   "execution_count": null,
   "metadata": {},
   "outputs": [],
   "source": []
  }
 ],
 "metadata": {
  "kernelspec": {
   "display_name": "Python 3",
   "language": "python",
   "name": "python3"
  },
  "language_info": {
   "codemirror_mode": {
    "name": "ipython",
    "version": 3
   },
   "file_extension": ".py",
   "mimetype": "text/x-python",
   "name": "python",
   "nbconvert_exporter": "python",
   "pygments_lexer": "ipython3",
   "version": "3.6.6"
  }
 },
 "nbformat": 4,
 "nbformat_minor": 2
}
