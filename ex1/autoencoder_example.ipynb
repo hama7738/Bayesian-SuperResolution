{
 "cells": [
  {
   "cell_type": "markdown",
   "metadata": {},
   "source": [
    "### 1/17 追記\n",
    "AutoEncoderとベイズを比較して、\n",
    "`predicted image`と`p(P|Q)`の値がほぼ等しい結果が得られた.\n",
    "\n",
    "それは一体なぜなのか考察してください.\n",
    "\n",
    "\n",
    "また、この2つの間の違いを定量的に評価することは、発表の上で非常に重要な要素になりそうだと考えられます.\n",
    "質よりも量で思いついた事、新しい知見などはお互い共有しよう. 何もアウトプットしないことだけは避けてほしいです.\n",
    "\n",
    "\n",
    "橋爪さんからのアドバイスは以下の3つ.\n",
    "- `predicted image with binalization`から`original image`に変換出来るか確認する\n",
    "- `4x4MatrixGenerator.ipynb`のフィルター**A**の値を工夫する. 具体的には、より現実に近いケースを考える. 例として正規分布に従ったノイズ$\\epsilon$を加えてみたり... (要考察)\n",
    "- 実際の風景画や、大きなサイズにおいてこのアルゴリズムを適用してみる. ファミコンのドット絵とか面白そう? もしRGBに対応させるにはどうするか？　要考察"
   ]
  },
  {
   "cell_type": "code",
   "execution_count": 102,
   "metadata": {},
   "outputs": [],
   "source": [
    "import numpy as np\n",
    "import pandas as pd\n",
    "import matplotlib.pyplot as plt\n",
    "import itertools as iter\n",
    "import tensorflow as tf\n",
    "\n",
    "from tensorflow import keras\n",
    "from keras.models import Sequential\n",
    "from keras.layers import Dense, Activation, Dropout\n",
    "\n",
    "from PIL import Image\n",
    "\n",
    "%matplotlib inline"
   ]
  },
  {
   "cell_type": "code",
   "execution_count": 11,
   "metadata": {},
   "outputs": [],
   "source": [
    "class AE():\n",
    "    def __init__(self, optimizer='rmsprop', loss='mean_squared_error', input_data_path=\"../4x4matrix.csv\"):\n",
    "        self.p_matrix = np.load(\"4x4matrix.npz\")[\"p_matrix\"]\n",
    "        self.q_matrix = np.load(\"4x4matrix.npz\")[\"q_matrix\"]\n",
    "        self.optimizer = optimizer\n",
    "        self.model = Sequential()\n",
    "        self.model.add( Dense(25, activation = 'relu', input_dim = 9) )\n",
    "        #self.model.add( Dense(16, activation = 'relu') )\n",
    "        self.model.add( Dense(16, activation = 'hard_sigmoid') )\n",
    "        #self.model.add( Dense(16, activation = keras.layers.ReLU(max_value=1, negative_slope=0, threshold = 0)) )\n",
    "        #self.model.add( Dense(16, activation = keras.layers.ReLU(max_value=1, negative_slope=0, threshold = 0)) )\n",
    "        self.model.compile(optimizer = optimizer,\n",
    "                           loss = loss,\n",
    "                           metrics = ['accuracy'])\n",
    "        \n",
    "    def fit(self, epochs='4', batch_size='256'):\n",
    "        self.model.fit(self.q_matrix, self.p_matrix,\n",
    "                      epochs = epochs,\n",
    "                      batch_size = batch_size,\n",
    "                      validation_data = (self.q_matrix, self.p_matrix))\n",
    "    \n",
    "    def predict(self, test_img, threshold):\n",
    "        self.preds = self.model.predict(test_img).reshape(4,4)\n",
    "        self.preds_binary = self.preds.copy()\n",
    "        self.preds_binary[self.preds_binary < threshold] = 0\n",
    "        self.preds_binary[self.preds_binary >= threshold] = 1\n",
    "        print(self.preds, self.preds_binary)\n",
    "        \n",
    "        if test_img.dtype == 'int64':\n",
    "            ncols = 4\n",
    "            self.fig, self.axes = plt.subplots(nrows = 1, ncols = ncols, figsize = (14,14))\n",
    "            self.bayes_image = np.empty(16)\n",
    "            self.index_when_given_q = np.all(self.q_matrix == test_img, axis = 1)\n",
    "            self.p_given_q = self.p_matrix[self.index_when_given_q]\n",
    "            for i in range(16):\n",
    "                is_one_counter = 0\n",
    "                target_list = [self.p_given_q[j][i] for j in range(self.p_given_q.shape[0])]\n",
    "                total_length = len(target_list)\n",
    "    \n",
    "                for j in range(total_length):\n",
    "                    if target_list[j] == 1:\n",
    "                        is_one_counter += 1\n",
    "                prob = is_one_counter / total_length\n",
    "                self.bayes_image[i] = prob\n",
    "            self.axes[3].imshow(self.bayes_image.reshape(4,4), cmap = plt.cm.binary)\n",
    "            self.axes[3].set_title(\"p(P|Q) image based on bayes\")\n",
    "            \n",
    "        elif test_img.dtype == 'float64':\n",
    "            ncols = 3\n",
    "            self.fig, self.axes = plt.subplots(nrows = 1, ncols = ncols, figsize = (14,14))\n",
    "        \n",
    "\n",
    "        self.axes[0].imshow(test_img.reshape(3,3), cmap = plt.cm.binary)\n",
    "        self.axes[0].set_title(\"original image\")\n",
    "        self.axes[1].imshow(self.preds, cmap = plt.cm.binary)\n",
    "        self.axes[1].set_title(\"predicted image\")\n",
    "        self.axes[2].imshow(self.preds_binary, cmap = plt.cm.binary)\n",
    "        self.axes[2].set_title(\"predicted image with binalization\")\n",
    "        \n",
    "        \n",
    "        "
   ]
  },
  {
   "cell_type": "code",
   "execution_count": 12,
   "metadata": {},
   "outputs": [],
   "source": [
    "autoencoder = AE(optimizer = \"rmsprop\", loss = keras.losses.binary_crossentropy)"
   ]
  },
  {
   "cell_type": "markdown",
   "metadata": {},
   "source": [
    "## モデル"
   ]
  },
  {
   "cell_type": "code",
   "execution_count": 13,
   "metadata": {},
   "outputs": [
    {
     "name": "stdout",
     "output_type": "stream",
     "text": [
      "_________________________________________________________________\n",
      "Layer (type)                 Output Shape              Param #   \n",
      "=================================================================\n",
      "dense_5 (Dense)              (None, 25)                250       \n",
      "_________________________________________________________________\n",
      "dense_6 (Dense)              (None, 16)                416       \n",
      "=================================================================\n",
      "Total params: 666\n",
      "Trainable params: 666\n",
      "Non-trainable params: 0\n",
      "_________________________________________________________________\n"
     ]
    }
   ],
   "source": [
    "autoencoder.model.summary()"
   ]
  },
  {
   "cell_type": "markdown",
   "metadata": {},
   "source": [
    "## 学習"
   ]
  },
  {
   "cell_type": "code",
   "execution_count": 15,
   "metadata": {},
   "outputs": [
    {
     "name": "stdout",
     "output_type": "stream",
     "text": [
      "Train on 983040 samples, validate on 983040 samples\n",
      "Epoch 1/3\n",
      "983040/983040 [==============================] - 6s 6us/step - loss: 0.5509 - acc: 0.0465 - val_loss: 0.5492 - val_acc: 0.0476\n",
      "Epoch 2/3\n",
      "983040/983040 [==============================] - 6s 6us/step - loss: 0.5489 - acc: 0.0474 - val_loss: 0.5485 - val_acc: 0.0511\n",
      "Epoch 3/3\n",
      "983040/983040 [==============================] - 7s 7us/step - loss: 0.5486 - acc: 0.0463 - val_loss: 0.5484 - val_acc: 0.0490\n"
     ]
    }
   ],
   "source": [
    "autoencoder.fit(epochs = 3, batch_size=2048)"
   ]
  },
  {
   "cell_type": "markdown",
   "metadata": {},
   "source": [
    "## 予測"
   ]
  },
  {
   "cell_type": "code",
   "execution_count": 16,
   "metadata": {},
   "outputs": [
    {
     "name": "stdout",
     "output_type": "stream",
     "text": [
      "[[0.22734728 0.5347265  0.49470237 0.17542914]\n",
      " [0.         0.5643043  0.64939827 0.0218451 ]\n",
      " [0.4609582  0.52083206 0.2317192  0.20795906]\n",
      " [0.80317986 0.48519307 0.09522262 0.38425922]] [[0. 1. 0. 0.]\n",
      " [0. 1. 1. 0.]\n",
      " [0. 1. 0. 0.]\n",
      " [1. 0. 0. 0.]]\n"
     ]
    },
    {
     "data": {
      "image/png": "[encoded data removed]",
      "text/plain": [
       "<Figure size 1008x1008 with 4 Axes>"
      ]
     },
     "metadata": {
      "needs_background": "light"
     },
     "output_type": "display_data"
    }
   ],
   "source": [
    "test_img = np.array([[0,1,0,0,1,0,1,0,0]])\n",
    "threshold = 0.5\n",
    "autoencoder.predict(test_img, threshold)"
   ]
  },
  {
   "cell_type": "markdown",
   "metadata": {},
   "source": [
    "## より大きな画像で超解像を行う\n",
    "\n",
    "### 仕様\n",
    "- `input_img` \n",
    "    - (3 x n, 3 x m) dimention\n",
    "    - from 0 to 1 \n",
    "    \n",
    "- `output_img`\n",
    "    - (4 x n, 4 x m) dimention\n",
    "    - 0 or 1 binalized\n",
    "    \n",
    "- `thresold`"
   ]
  },
  {
   "cell_type": "code",
   "execution_count": 100,
   "metadata": {},
   "outputs": [
    {
     "data": {
      "text/plain": [
       "Text(0.5, 1.0, 'output image with biinalization')"
      ]
     },
     "execution_count": 100,
     "metadata": {},
     "output_type": "execute_result"
    },
    {
     "data": {
      "image/png": "[encoded data removed]",
      "text/plain": [
       "<Figure size 864x864 with 3 Axes>"
      ]
     },
     "metadata": {
      "needs_background": "light"
     },
     "output_type": "display_data"
    }
   ],
   "source": [
    "# n = 4\n",
    "# m = 4\n",
    "thresold = 0.5\n",
    "\n",
    "\n",
    "input_img = np.random.randint(0, 2, (15,15), dtype='int64')\n",
    "x, y = input_img.shape\n",
    "n, m = int( x / 3 ), int( y / 3 )\n",
    "output_img = np.empty((4 * n , 4 * m), dtype='float64')\n",
    "\n",
    "for i, j in iter.product(range(n), range(m)):\n",
    "    partial_img = input_img.copy()[ 3 * j : 3 * (j + 1), 3 * i : 3 * ( i + 1)] \n",
    "    partial_img = autoencoder.model.predict(partial_img.reshape(1,9))\n",
    "    output_img[4 * j : 4 * (j + 1), 4 * i : 4 * ( i + 1)] = partial_img.reshape(4,4)\n",
    "\n",
    "output_img_binalized = output_img.copy()\n",
    "output_img_binalized[output_img_binalized >= thresold] = 1\n",
    "output_img_binalized[output_img_binalized < thresold] = 0\n",
    "\n",
    "fig, axes = plt.subplots(1,3, figsize = (12,12))\n",
    "axes[0].imshow(input_img, cmap = plt.cm.binary)\n",
    "axes[0].set_title(\"input image\")\n",
    "axes[1].imshow(output_img, cmap = plt.cm.binary)\n",
    "axes[1].set_title(\"output image\")\n",
    "axes[2].imshow(output_img_binalized, cmap = plt.cm.binary)\n",
    "axes[2].set_title(\"output image with biinalization\")"
   ]
  },
  {
   "cell_type": "code",
   "execution_count": 88,
   "metadata": {},
   "outputs": [],
   "source": [
    "plt.subplots?"
   ]
  },
  {
   "cell_type": "code",
   "execution_count": 48,
   "metadata": {},
   "outputs": [
    {
     "data": {
      "text/plain": [
       "(1, 3)"
      ]
     },
     "execution_count": 48,
     "metadata": {},
     "output_type": "execute_result"
    }
   ],
   "source": [
    "np.array([[1,1,0]]).shape"
   ]
  },
  {
   "cell_type": "code",
   "execution_count": 54,
   "metadata": {},
   "outputs": [
    {
     "data": {
      "text/plain": [
       "array([[0, 0, 0, 1],\n",
       "       [0, 0, 1, 0],\n",
       "       [0, 0, 0, 0]], dtype=int8)"
      ]
     },
     "execution_count": 54,
     "metadata": {},
     "output_type": "execute_result"
    }
   ],
   "source": [
    "input_img[3:6,2:6]"
   ]
  },
  {
   "cell_type": "code",
   "execution_count": 17,
   "metadata": {},
   "outputs": [],
   "source": [
    "np.random.randint?\n",
    "ax = plt.subplot(1, 2)"
   ]
  },
  {
   "cell_type": "markdown",
   "metadata": {},
   "source": [
    "## ベイズルールによる結果"
   ]
  },
  {
   "cell_type": "code",
   "execution_count": 7,
   "metadata": {},
   "outputs": [],
   "source": [
    "index_when_given_q = np.all(autoencoder.q_matrix == test_img, axis = 1)\n",
    "p_given_q = autoencoder.p_matrix[index_when_given_q]"
   ]
  },
  {
   "cell_type": "code",
   "execution_count": 8,
   "metadata": {},
   "outputs": [
    {
     "data": {
      "image/png": "[encoded data removed]",
      "text/plain": [
       "<Figure size 432x288 with 16 Axes>"
      ]
     },
     "metadata": {
      "needs_background": "light"
     },
     "output_type": "display_data"
    }
   ],
   "source": [
    "n = 16\n",
    "for i in range(n):\n",
    "    ax = plt.subplot(4, 4, i+1)\n",
    "    plt.hist([p_given_q[j][i] for j in range(p_given_q.shape[0])], bins = [0,1,2])"
   ]
  },
  {
   "cell_type": "code",
   "execution_count": 9,
   "metadata": {},
   "outputs": [],
   "source": [
    "n = 16\n",
    "bayes_image = np.empty(n)\n",
    "for i in range(n):\n",
    "    is_one_counter = 0\n",
    "    target_list = [p_given_q[j][i] for j in range(p_given_q.shape[0])]\n",
    "    total_length = len(target_list)\n",
    "    \n",
    "    for j in range(total_length):\n",
    "        if target_list[j] == 1:\n",
    "            is_one_counter += 1\n",
    "    prob = is_one_counter / total_length\n",
    "    bayes_image[i] = prob"
   ]
  },
  {
   "cell_type": "code",
   "execution_count": 10,
   "metadata": {},
   "outputs": [
    {
     "data": {
      "text/plain": [
       "array([0.2654321 , 0.39969136, 0.85339506, 0.6867284 , 0.06018519,\n",
       "       0.42283951, 0.92592593, 0.16820988, 0.25154321, 0.74845679,\n",
       "       0.05092593, 0.13117284, 0.85802469, 0.3117284 , 0.13580247,\n",
       "       0.41049383])"
      ]
     },
     "execution_count": 10,
     "metadata": {},
     "output_type": "execute_result"
    }
   ],
   "source": [
    "bayes_image"
   ]
  },
  {
   "cell_type": "code",
   "execution_count": 11,
   "metadata": {},
   "outputs": [
    {
     "data": {
      "text/plain": [
       "<matplotlib.image.AxesImage at 0xb485611d0>"
      ]
     },
     "execution_count": 11,
     "metadata": {},
     "output_type": "execute_result"
    },
    {
     "data": {
      "image/png": "[encoded data removed]",
      "text/plain": [
       "<Figure size 432x288 with 1 Axes>"
      ]
     },
     "metadata": {
      "needs_background": "light"
     },
     "output_type": "display_data"
    }
   ],
   "source": [
    "plt.imshow(bayes_image.reshape(4,4), cmap = plt.cm.binary)"
   ]
  },
  {
   "cell_type": "code",
   "execution_count": null,
   "metadata": {},
   "outputs": [],
   "source": []
  },
  {
   "cell_type": "code",
   "execution_count": null,
   "metadata": {},
   "outputs": [],
   "source": []
  }
 ],
 "metadata": {
  "kernelspec": {
   "display_name": "Python 3",
   "language": "python",
   "name": "python3"
  },
  "language_info": {
   "codemirror_mode": {
    "name": "ipython",
    "version": 3
   },
   "file_extension": ".py",
   "mimetype": "text/x-python",
   "name": "python",
   "nbconvert_exporter": "python",
   "pygments_lexer": "ipython3",
   "version": "3.6.6"
  }
 },
 "nbformat": 4,
 "nbformat_minor": 2
}
