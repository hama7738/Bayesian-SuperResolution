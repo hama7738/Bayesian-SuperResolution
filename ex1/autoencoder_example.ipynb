{
 "cells": [
  {
   "cell_type": "code",
   "execution_count": 1,
   "metadata": {},
   "outputs": [
    {
     "name": "stderr",
     "output_type": "stream",
     "text": [
      "Using TensorFlow backend.\n"
     ]
    }
   ],
   "source": [
    "import numpy as np\n",
    "import pandas as pd\n",
    "import matplotlib.pyplot as plt\n",
    "\n",
    "import tensorflow as tf\n",
    "\n",
    "from tensorflow import keras\n",
    "from keras.models import Sequential\n",
    "from keras.layers import Dense, Activation, Dropout\n",
    "\n",
    "%matplotlib inline"
   ]
  },
  {
   "cell_type": "code",
   "execution_count": 15,
   "metadata": {},
   "outputs": [],
   "source": [
    "class AE():\n",
    "    def __init__(self,input_data_path=\"../4x4matrix.csv\", optimizer='rmsprop', loss='mean_squared_error'):\n",
    "        #self.p_matrix = np.array(pd.read_csv(input_data_path, index_col=0).iloc[:,0:16])\n",
    "        #self.q_matrix = np.array(pd.read_csv(input_data_path, index_col=0).iloc[:,16:])\n",
    "        #self.p_matrix = np.array(df.iloc[:,0:16])\n",
    "        #self.q_matrix = np.array(df.iloc[:,16:])\n",
    "        self.p_matrix = np.load(\"4x4matrix.npz\")[\"p_matrix\"]\n",
    "        self.q_matrix = np.load(\"4x4matrix.npz\")[\"q_matrix\"]\n",
    "        self.optimizer = optimizer\n",
    "        self.model = Sequential()\n",
    "        self.model.add( Dense(16, activation = 'relu', input_dim = 9) )\n",
    "        self.model.add( Dense(16, activation = 'relu') )\n",
    "        self.model.add( Dense(16, activation = 'hard_sigmoid') )\n",
    "        #self.model.add( Dropout(0.2) )\n",
    "        #self.model.add( Dense(16, activation = keras.layers.ReLU(max_value=1, negative_slope=0, threshold = 0)) )\n",
    "        #self.model.add( Dense(16, activation = keras.layers.ReLU(max_value=1, negative_slope=0, threshold = 0)) )\n",
    "        self.model.compile(optimizer = 'rmsprop',\n",
    "                           loss='mean_squared_error',\n",
    "                           metrics = ['accuracy'])\n",
    "        \n",
    "    def fit(self, epochs='4', batch_size='256'):\n",
    "        self.model.fit(self.q_matrix, self.p_matrix,\n",
    "                      epochs = epochs,\n",
    "                      batch_size = batch_size,\n",
    "                      validation_data = (self.q_matrix, self.p_matrix))\n",
    "    \n",
    "    def predict(self, test_img):\n",
    "        self.preds = self.model.predict(test_img).reshape(4,4)\n",
    "        self.preds_binary = self.preds.copy()\n",
    "        self.preds_binary[self.preds_binary < 0.5] = 0\n",
    "        self.preds_binary[self.preds_binary >= 0.5] = 1\n",
    "        print(self.preds, self.preds_binary)\n",
    "        self.fig, self.axes = plt.subplots(nrows = 1, ncols = 3, figsize = (14,14))\n",
    "        self.axes[0].imshow(test_img.reshape(3,3), cmap = plt.cm.binary)\n",
    "        self.axes[0].set_title(\"original image\")\n",
    "        self.axes[1].imshow(self.preds, cmap = plt.cm.binary)\n",
    "        self.axes[1].set_title(\"predicted image\")\n",
    "        self.axes[2].imshow(self.preds_binary, cmap = plt.cm.binary)\n",
    "        self.axes[2].set_title(\"predicted image with binalization\")"
   ]
  },
  {
   "cell_type": "code",
   "execution_count": 16,
   "metadata": {},
   "outputs": [],
   "source": [
    "autoencoder = AE()"
   ]
  },
  {
   "cell_type": "code",
   "execution_count": 17,
   "metadata": {},
   "outputs": [
    {
     "name": "stdout",
     "output_type": "stream",
     "text": [
      "_________________________________________________________________\n",
      "Layer (type)                 Output Shape              Param #   \n",
      "=================================================================\n",
      "dense_6 (Dense)              (None, 16)                160       \n",
      "_________________________________________________________________\n",
      "dense_7 (Dense)              (None, 16)                272       \n",
      "_________________________________________________________________\n",
      "dense_8 (Dense)              (None, 16)                272       \n",
      "=================================================================\n",
      "Total params: 704\n",
      "Trainable params: 704\n",
      "Non-trainable params: 0\n",
      "_________________________________________________________________\n"
     ]
    }
   ],
   "source": [
    "autoencoder.model.summary()"
   ]
  },
  {
   "cell_type": "code",
   "execution_count": 18,
   "metadata": {},
   "outputs": [
    {
     "name": "stdout",
     "output_type": "stream",
     "text": [
      "Train on 983040 samples, validate on 983040 samples\n",
      "Epoch 1/5\n",
      "983040/983040 [==============================] - 8s 8us/step - loss: 0.2202 - acc: 0.0755 - val_loss: 0.2163 - val_acc: 0.0624\n",
      "Epoch 2/5\n",
      "983040/983040 [==============================] - 8s 8us/step - loss: 0.2163 - acc: 0.0804 - val_loss: 0.2162 - val_acc: 0.0410\n",
      "Epoch 3/5\n",
      "983040/983040 [==============================] - 9s 9us/step - loss: 0.2162 - acc: 0.0676 - val_loss: 0.2162 - val_acc: 0.0571\n",
      "Epoch 4/5\n",
      "983040/983040 [==============================] - 8s 9us/step - loss: 0.2161 - acc: 0.0626 - val_loss: 0.2161 - val_acc: 0.0382\n",
      "Epoch 5/5\n",
      "983040/983040 [==============================] - 8s 9us/step - loss: 0.2161 - acc: 0.0684 - val_loss: 0.2161 - val_acc: 0.0613\n"
     ]
    }
   ],
   "source": [
    "autoencoder.fit(epochs = 5, batch_size=512)"
   ]
  },
  {
   "cell_type": "code",
   "execution_count": 12,
   "metadata": {},
   "outputs": [
    {
     "name": "stdout",
     "output_type": "stream",
     "text": [
      "[[0.5925866  0.6504147  0.6853897  0.6298986 ]\n",
      " [0.802643   1.         0.9453199  0.74191266]\n",
      " [0.47210664 0.35794157 0.69581765 0.8158238 ]\n",
      " [0.32033354 0.04589233 0.4409824  0.6799096 ]] [[1. 1. 1. 1.]\n",
      " [1. 1. 1. 1.]\n",
      " [0. 0. 1. 1.]\n",
      " [0. 0. 0. 1.]]\n"
     ]
    },
    {
     "data": {
      "image/png": "[encoded data removed]",
      "text/plain": [
       "<Figure size 1008x1008 with 3 Axes>"
      ]
     },
     "metadata": {
      "needs_background": "light"
     },
     "output_type": "display_data"
    }
   ],
   "source": [
    "test_img = np.array([[1,1,1,1,1,1,0,0,1]])\n",
    "autoencoder.predict(test_img)"
   ]
  },
  {
   "cell_type": "code",
   "execution_count": 7,
   "metadata": {},
   "outputs": [
    {
     "ename": "NameError",
     "evalue": "name 'df' is not defined",
     "output_type": "error",
     "traceback": [
      "\u001b[0;31m---------------------------------------------------------------------------\u001b[0m",
      "\u001b[0;31mNameError\u001b[0m                                 Traceback (most recent call last)",
      "\u001b[0;32m<ipython-input-7-3a6f027285b6>\u001b[0m in \u001b[0;36m<module>\u001b[0;34m\u001b[0m\n\u001b[0;32m----> 1\u001b[0;31m \u001b[0mq_given_p\u001b[0m \u001b[0;34m=\u001b[0m \u001b[0mdf\u001b[0m\u001b[0;34m.\u001b[0m\u001b[0mwhere\u001b[0m\u001b[0;34m(\u001b[0m\u001b[0mdf\u001b[0m\u001b[0;34m.\u001b[0m\u001b[0miloc\u001b[0m\u001b[0;34m[\u001b[0m\u001b[0;34m:\u001b[0m\u001b[0;34m,\u001b[0m\u001b[0;34m:\u001b[0m\u001b[0;36m16\u001b[0m\u001b[0;34m]\u001b[0m \u001b[0;34m==\u001b[0m \u001b[0mautoencoder\u001b[0m\u001b[0;34m.\u001b[0m\u001b[0mpreds_binary\u001b[0m\u001b[0;34m.\u001b[0m\u001b[0mreshape\u001b[0m\u001b[0;34m(\u001b[0m\u001b[0;36m16\u001b[0m\u001b[0;34m,\u001b[0m\u001b[0;34m)\u001b[0m\u001b[0;34m,\u001b[0m \u001b[0mdf\u001b[0m\u001b[0;34m.\u001b[0m\u001b[0miloc\u001b[0m\u001b[0;34m[\u001b[0m\u001b[0;34m:\u001b[0m\u001b[0;34m,\u001b[0m\u001b[0;36m16\u001b[0m\u001b[0;34m:\u001b[0m\u001b[0;34m]\u001b[0m\u001b[0;34m)\u001b[0m\u001b[0;34m.\u001b[0m\u001b[0mdropna\u001b[0m\u001b[0;34m(\u001b[0m\u001b[0;34m)\u001b[0m\u001b[0;34m.\u001b[0m\u001b[0miloc\u001b[0m\u001b[0;34m[\u001b[0m\u001b[0;34m:\u001b[0m\u001b[0;34m,\u001b[0m\u001b[0;36m16\u001b[0m\u001b[0;34m:\u001b[0m\u001b[0;34m]\u001b[0m\u001b[0;34m\u001b[0m\u001b[0m\n\u001b[0m",
      "\u001b[0;31mNameError\u001b[0m: name 'df' is not defined"
     ]
    }
   ],
   "source": [
    "q_given_p = df.where(df.iloc[:,:16] == autoencoder.preds_binary.reshape(16,), df.iloc[:,16:]).dropna().iloc[:,16:]\n"
   ]
  },
  {
   "cell_type": "code",
   "execution_count": null,
   "metadata": {},
   "outputs": [],
   "source": [
    "test_img = np.array([[1,1,1,1,1,1,0,1,1]])\n",
    "p_given_q = df.where(df.iloc[:, 16:] == test_img.reshape(9,), df.iloc[:,:16]).dropna().iloc[:, :16]\n"
   ]
  },
  {
   "cell_type": "code",
   "execution_count": null,
   "metadata": {},
   "outputs": [],
   "source": [
    "p_given_q.head()"
   ]
  },
  {
   "cell_type": "code",
   "execution_count": null,
   "metadata": {},
   "outputs": [],
   "source": [
    "_dict = {}\n",
    "for i in range(p_given_q.shape[0]):\n",
    "    _temp = p_given_q.iloc[i,:].values\n",
    "    _temp = str(_temp)\n",
    "    if _temp not in _dict.keys():\n",
    "        _dict[_temp] = 1\n",
    "    else:\n",
    "        _dict[_temp] += 1"
   ]
  },
  {
   "cell_type": "code",
   "execution_count": null,
   "metadata": {},
   "outputs": [],
   "source": [
    "sorted(_dict.items(), key=lambda x: x[1], reverse = True)"
   ]
  },
  {
   "cell_type": "code",
   "execution_count": null,
   "metadata": {},
   "outputs": [],
   "source": [
    "_dict = {'1' : np.array([1,2]), '2' : 2}"
   ]
  },
  {
   "cell_type": "code",
   "execution_count": null,
   "metadata": {},
   "outputs": [],
   "source": [
    "test = list(np.array([1,2]))\n",
    "test"
   ]
  },
  {
   "cell_type": "code",
   "execution_count": null,
   "metadata": {},
   "outputs": [],
   "source": [
    "df = pd.read_csv(\"../4x4matrix.csv\", index_col=0)\n",
    "df[df.iloc[:,16] <= 1] = 0\n",
    "df[df >= 2] = 1\n",
    "df.head(5)"
   ]
  },
  {
   "cell_type": "code",
   "execution_count": null,
   "metadata": {},
   "outputs": [],
   "source": []
  }
 ],
 "metadata": {
  "kernelspec": {
   "display_name": "Python 3",
   "language": "python",
   "name": "python3"
  },
  "language_info": {
   "codemirror_mode": {
    "name": "ipython",
    "version": 3
   },
   "file_extension": ".py",
   "mimetype": "text/x-python",
   "name": "python",
   "nbconvert_exporter": "python",
   "pygments_lexer": "ipython3",
   "version": "3.6.6"
  }
 },
 "nbformat": 4,
 "nbformat_minor": 2
}
