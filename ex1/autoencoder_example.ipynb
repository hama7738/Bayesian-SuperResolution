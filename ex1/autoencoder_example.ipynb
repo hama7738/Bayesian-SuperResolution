{
 "cells": [
  {
   "cell_type": "code",
   "execution_count": 1,
   "metadata": {},
   "outputs": [
    {
     "name": "stderr",
     "output_type": "stream",
     "text": [
      "Using TensorFlow backend.\n"
     ]
    }
   ],
   "source": [
    "import numpy as np\n",
    "import pandas as pd\n",
    "import matplotlib.pyplot as plt\n",
    "\n",
    "import tensorflow as tf\n",
    "\n",
    "from tensorflow import keras\n",
    "from keras.models import Sequential\n",
    "from keras.layers import Dense, Activation, Dropout\n",
    "\n",
    "%matplotlib inline"
   ]
  },
  {
   "cell_type": "code",
   "execution_count": 2,
   "metadata": {},
   "outputs": [],
   "source": [
    "class AE():\n",
    "    def __init__(self, optimizer='rmsprop', loss='mean_squared_error', input_data_path=\"../4x4matrix.csv\"):\n",
    "        self.p_matrix = np.load(\"4x4matrix.npz\")[\"p_matrix\"]\n",
    "        self.q_matrix = np.load(\"4x4matrix.npz\")[\"q_matrix\"]\n",
    "        self.optimizer = optimizer\n",
    "        self.model = Sequential()\n",
    "        self.model.add( Dense(16, activation = 'relu', input_dim = 9) )\n",
    "        #self.model.add( Dense(16, activation = 'relu') )\n",
    "        self.model.add( Dense(16, activation = 'hard_sigmoid') )\n",
    "        #self.model.add( Dense(16, activation = keras.layers.ReLU(max_value=1, negative_slope=0, threshold = 0)) )\n",
    "        #self.model.add( Dense(16, activation = keras.layers.ReLU(max_value=1, negative_slope=0, threshold = 0)) )\n",
    "        self.model.compile(optimizer = optimizer,\n",
    "                           loss = loss,\n",
    "                           metrics = ['accuracy'])\n",
    "        \n",
    "    def fit(self, epochs='4', batch_size='256'):\n",
    "        self.model.fit(self.q_matrix, self.p_matrix,\n",
    "                      epochs = epochs,\n",
    "                      batch_size = batch_size,\n",
    "                      validation_data = (self.q_matrix, self.p_matrix))\n",
    "    \n",
    "    def predict(self, test_img):\n",
    "        self.preds = self.model.predict(test_img).reshape(4,4)\n",
    "        self.preds_binary = self.preds.copy()\n",
    "        self.preds_binary[self.preds_binary < 0.5] = 0\n",
    "        self.preds_binary[self.preds_binary >= 0.5] = 1\n",
    "        self.bayes_image = np.empty(16)\n",
    "        self.index_when_given_q = np.all(self.q_matrix == test_img, axis = 1)\n",
    "        self.p_given_q = self.p_matrix[self.index_when_given_q]\n",
    "        for i in range(16):\n",
    "            is_one_counter = 0\n",
    "            target_list = [self.p_given_q[j][i] for j in range(self.p_given_q.shape[0])]\n",
    "            total_length = len(target_list)\n",
    "    \n",
    "            for j in range(total_length):\n",
    "                if target_list[j] == 1:\n",
    "                    is_one_counter += 1\n",
    "            prob = is_one_counter / total_length\n",
    "            self.bayes_image[i] = prob\n",
    "        print(self.preds, self.preds_binary, self.bayes_image)\n",
    "        self.fig, self.axes = plt.subplots(nrows = 1, ncols = 4, figsize = (14,14))\n",
    "        self.axes[0].imshow(test_img.reshape(3,3), cmap = plt.cm.binary)\n",
    "        self.axes[0].set_title(\"original image\")\n",
    "        self.axes[1].imshow(self.preds, cmap = plt.cm.binary)\n",
    "        self.axes[1].set_title(\"predicted image\")\n",
    "        self.axes[2].imshow(self.preds_binary, cmap = plt.cm.binary)\n",
    "        self.axes[2].set_title(\"predicted image with binalization\")\n",
    "        self.axes[3].imshow(self.bayes_image.reshape(4,4), cmap = plt.cm.binary)\n",
    "        self.axes[3].set_title(\"p(P|Q) image based on bayes\")\n",
    "        "
   ]
  },
  {
   "cell_type": "code",
   "execution_count": 3,
   "metadata": {},
   "outputs": [],
   "source": [
    "autoencoder = AE(optimizer = \"rmsprop\", loss = keras.losses.binary_crossentropy)"
   ]
  },
  {
   "cell_type": "markdown",
   "metadata": {},
   "source": [
    "## モデル"
   ]
  },
  {
   "cell_type": "code",
   "execution_count": 4,
   "metadata": {},
   "outputs": [
    {
     "name": "stdout",
     "output_type": "stream",
     "text": [
      "_________________________________________________________________\n",
      "Layer (type)                 Output Shape              Param #   \n",
      "=================================================================\n",
      "dense_1 (Dense)              (None, 16)                160       \n",
      "_________________________________________________________________\n",
      "dense_2 (Dense)              (None, 16)                272       \n",
      "=================================================================\n",
      "Total params: 432\n",
      "Trainable params: 432\n",
      "Non-trainable params: 0\n",
      "_________________________________________________________________\n"
     ]
    }
   ],
   "source": [
    "autoencoder.model.summary()"
   ]
  },
  {
   "cell_type": "markdown",
   "metadata": {},
   "source": [
    "## 学習"
   ]
  },
  {
   "cell_type": "code",
   "execution_count": 5,
   "metadata": {},
   "outputs": [
    {
     "name": "stdout",
     "output_type": "stream",
     "text": [
      "Train on 983040 samples, validate on 983040 samples\n",
      "Epoch 1/5\n",
      "983040/983040 [==============================] - 13s 13us/step - loss: 0.5666 - acc: 0.0351 - val_loss: 0.5551 - val_acc: 0.0334\n",
      "Epoch 2/5\n",
      "983040/983040 [==============================] - 12s 13us/step - loss: 0.5544 - acc: 0.0423 - val_loss: 0.5538 - val_acc: 0.0385\n",
      "Epoch 3/5\n",
      "983040/983040 [==============================] - 13s 13us/step - loss: 0.5538 - acc: 0.0442 - val_loss: 0.5527 - val_acc: 0.0389\n",
      "Epoch 4/5\n",
      "983040/983040 [==============================] - 14s 14us/step - loss: 0.5526 - acc: 0.0462 - val_loss: 0.5530 - val_acc: 0.0538\n",
      "Epoch 5/5\n",
      "983040/983040 [==============================] - 12s 12us/step - loss: 0.5521 - acc: 0.0448 - val_loss: 0.5508 - val_acc: 0.0452\n"
     ]
    }
   ],
   "source": [
    "autoencoder.fit(epochs = 5, batch_size=256)"
   ]
  },
  {
   "cell_type": "markdown",
   "metadata": {},
   "source": [
    "## 予測"
   ]
  },
  {
   "cell_type": "code",
   "execution_count": 6,
   "metadata": {},
   "outputs": [
    {
     "name": "stdout",
     "output_type": "stream",
     "text": [
      "[[0.271422   0.4736831  0.8156098  0.66229415]\n",
      " [0.         0.4828418  0.9276455  0.32900143]\n",
      " [0.4599232  0.5517624  0.12217906 0.07598343]\n",
      " [0.8026904  0.48990482 0.13666639 0.41188717]] [[0. 0. 1. 1.]\n",
      " [0. 0. 1. 0.]\n",
      " [0. 1. 0. 0.]\n",
      " [1. 0. 0. 0.]] [0.2654321  0.39969136 0.85339506 0.6867284  0.06018519 0.42283951\n",
      " 0.92592593 0.16820988 0.25154321 0.74845679 0.05092593 0.13117284\n",
      " 0.85802469 0.3117284  0.13580247 0.41049383]\n"
     ]
    },
    {
     "data": {
      "image/png": "[encoded data removed]",
      "text/plain": [
       "<Figure size 1008x1008 with 4 Axes>"
      ]
     },
     "metadata": {
      "needs_background": "light"
     },
     "output_type": "display_data"
    }
   ],
   "source": [
    "test_img = np.array([[0,1,1,0,1,0,1,0,0]])\n",
    "autoencoder.predict(test_img)"
   ]
  },
  {
   "cell_type": "markdown",
   "metadata": {},
   "source": [
    "## ベイズルールによる結果"
   ]
  },
  {
   "cell_type": "code",
   "execution_count": 7,
   "metadata": {},
   "outputs": [],
   "source": [
    "index_when_given_q = np.all(autoencoder.q_matrix == test_img, axis = 1)\n",
    "p_given_q = autoencoder.p_matrix[index_when_given_q]"
   ]
  },
  {
   "cell_type": "code",
   "execution_count": 8,
   "metadata": {},
   "outputs": [
    {
     "data": {
      "image/png": "[encoded data removed]",
      "text/plain": [
       "<Figure size 432x288 with 16 Axes>"
      ]
     },
     "metadata": {
      "needs_background": "light"
     },
     "output_type": "display_data"
    }
   ],
   "source": [
    "n = 16\n",
    "for i in range(n):\n",
    "    ax = plt.subplot(4, 4, i+1)\n",
    "    plt.hist([p_given_q[j][i] for j in range(p_given_q.shape[0])], bins = [0,1,2])"
   ]
  },
  {
   "cell_type": "code",
   "execution_count": 9,
   "metadata": {},
   "outputs": [],
   "source": [
    "n = 16\n",
    "bayes_image = np.empty(n)\n",
    "for i in range(n):\n",
    "    is_one_counter = 0\n",
    "    target_list = [p_given_q[j][i] for j in range(p_given_q.shape[0])]\n",
    "    total_length = len(target_list)\n",
    "    \n",
    "    for j in range(total_length):\n",
    "        if target_list[j] == 1:\n",
    "            is_one_counter += 1\n",
    "    prob = is_one_counter / total_length\n",
    "    bayes_image[i] = prob"
   ]
  },
  {
   "cell_type": "code",
   "execution_count": 10,
   "metadata": {},
   "outputs": [
    {
     "data": {
      "text/plain": [
       "array([0.2654321 , 0.39969136, 0.85339506, 0.6867284 , 0.06018519,\n",
       "       0.42283951, 0.92592593, 0.16820988, 0.25154321, 0.74845679,\n",
       "       0.05092593, 0.13117284, 0.85802469, 0.3117284 , 0.13580247,\n",
       "       0.41049383])"
      ]
     },
     "execution_count": 10,
     "metadata": {},
     "output_type": "execute_result"
    }
   ],
   "source": [
    "bayes_image"
   ]
  },
  {
   "cell_type": "code",
   "execution_count": 11,
   "metadata": {},
   "outputs": [
    {
     "data": {
      "text/plain": [
       "<matplotlib.image.AxesImage at 0xb485611d0>"
      ]
     },
     "execution_count": 11,
     "metadata": {},
     "output_type": "execute_result"
    },
    {
     "data": {
      "image/png": "[encoded data removed]",
      "text/plain": [
       "<Figure size 432x288 with 1 Axes>"
      ]
     },
     "metadata": {
      "needs_background": "light"
     },
     "output_type": "display_data"
    }
   ],
   "source": [
    "plt.imshow(bayes_image.reshape(4,4), cmap = plt.cm.binary)"
   ]
  }
 ],
 "metadata": {
  "kernelspec": {
   "display_name": "Python 3",
   "language": "python",
   "name": "python3"
  },
  "language_info": {
   "codemirror_mode": {
    "name": "ipython",
    "version": 3
   },
   "file_extension": ".py",
   "mimetype": "text/x-python",
   "name": "python",
   "nbconvert_exporter": "python",
   "pygments_lexer": "ipython3",
   "version": "3.6.6"
  }
 },
 "nbformat": 4,
 "nbformat_minor": 2
}
