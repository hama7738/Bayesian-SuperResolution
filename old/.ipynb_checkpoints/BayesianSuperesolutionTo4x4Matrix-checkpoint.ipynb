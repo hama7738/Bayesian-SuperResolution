{
 "cells": [
  {
   "cell_type": "code",
   "execution_count": 1,
   "metadata": {},
   "outputs": [],
   "source": [
    "import numpy as np\n",
    "import pandas as pd\n",
    "import matplotlib.pyplot as plt\n",
    "import itertools as iter\n",
    "import sqlite3"
   ]
  },
  {
   "cell_type": "code",
   "execution_count": 14,
   "metadata": {},
   "outputs": [
    {
     "name": "stdout",
     "output_type": "stream",
     "text": [
      "p_11\n",
      "p_12\n",
      "p_21\n",
      "p_22\n",
      "p_31\n",
      "p_32\n"
     ]
    },
    {
     "data": {
      "text/html": [
       "<div>\n",
       "<style scoped>\n",
       "    .dataframe tbody tr th:only-of-type {\n",
       "        vertical-align: middle;\n",
       "    }\n",
       "\n",
       "    .dataframe tbody tr th {\n",
       "        vertical-align: top;\n",
       "    }\n",
       "\n",
       "    .dataframe thead th {\n",
       "        text-align: right;\n",
       "    }\n",
       "</style>\n",
       "<table border=\"1\" class=\"dataframe\">\n",
       "  <thead>\n",
       "    <tr style=\"text-align: right;\">\n",
       "      <th></th>\n",
       "      <th>p_12</th>\n",
       "      <th>p_22</th>\n",
       "      <th>p_12</th>\n",
       "    </tr>\n",
       "  </thead>\n",
       "  <tbody>\n",
       "    <tr>\n",
       "      <th>0</th>\n",
       "      <td>0.830003</td>\n",
       "      <td>0.104957</td>\n",
       "      <td>0.105039</td>\n",
       "    </tr>\n",
       "    <tr>\n",
       "      <th>1</th>\n",
       "      <td>0.032761</td>\n",
       "      <td>0.297851</td>\n",
       "      <td>0.455367</td>\n",
       "    </tr>\n",
       "    <tr>\n",
       "      <th>2</th>\n",
       "      <td>0.675777</td>\n",
       "      <td>0.691467</td>\n",
       "      <td>0.828282</td>\n",
       "    </tr>\n",
       "    <tr>\n",
       "      <th>test</th>\n",
       "      <td>1.000000</td>\n",
       "      <td>2.000000</td>\n",
       "      <td>3.000000</td>\n",
       "    </tr>\n",
       "  </tbody>\n",
       "</table>\n",
       "</div>"
      ],
      "text/plain": [
       "          p_12      p_22      p_12\n",
       "0     0.830003  0.104957  0.105039\n",
       "1     0.032761  0.297851  0.455367\n",
       "2     0.675777  0.691467  0.828282\n",
       "test  1.000000  2.000000  3.000000"
      ]
     },
     "execution_count": 14,
     "metadata": {},
     "output_type": "execute_result"
    }
   ],
   "source": [
    "df1 = pd.DataFrame(np.random.rand(3,3) ,columns=[\"p_12\",\"p_22\",\"p_12\"])\n",
    "_test = (2,3)\n",
    "for _y in range(1, _test[1]+1):\n",
    "    for _x in range(1, _test[0]+1):\n",
    "        print(\"p_{y}{x}\".format(x=_x,y=_y))\n",
    "\n",
    "insert_data = pd.Series([1,2,3], index=df1.columns, name=\"test\")\n",
    "df1 = df1.append(insert_data)\n",
    "df1"
   ]
  },
  {
   "cell_type": "code",
   "execution_count": null,
   "metadata": {},
   "outputs": [],
   "source": [
    "def generatePMatrix():\n",
    "  _temp = np.zeros((2 ** 16,4,4))\n",
    "  _count = 0\n",
    "  for p_11, p_12, p_13, p_14, p_21, p_22, p_23, p_24, p_31, p_32, p_33, p_34, p_41, p_42, p_43, p_44 in iter.product([0,1],[0,1],[0,1],[0,1],[0,1],[0,1],[0,1],[0,1],[0,1],[0,1],[0,1],[0,1],[0,1],[0,1],[0,1],[0,1]):\n",
    "    _temp[_count] = np.array([[p_11, p_12, p_13, p_14],[p_21, p_22, p_23, p_24],[p_31, p_32, p_33, p_34],[p_41, p_42, p_43, p_44]]) \n",
    "    _count += 1\n",
    "  \n",
    "  return _temp\n",
    "\n",
    "p_matrix = generatePMatrix()\n",
    "p_matrix.shape"
   ]
  },
  {
   "cell_type": "code",
   "execution_count": null,
   "metadata": {},
   "outputs": [],
   "source": [
    "def calcQMatrix(data = p_matrix, p_size=(4,4),a_size=(2,2)):\n",
    "    q_size = (p_size[0]-a_size[0]+1, p_size[1]-a_size[1]+1)\n",
    "    _columns = []\n",
    "    \n",
    "    for _y in range(1, p_size[1]+1):\n",
    "        for _x in range(1, p_size[0]+1):\n",
    "            _index = \"p_{y}{x}\".format(x = _x, y = _y)\n",
    "            _columns.append(_index)\n",
    "    \n",
    "    for _y in range(1, q_size[1]+1):\n",
    "        for _x in range(1, q_size[0]+1):\n",
    "            _index = \"q_{y}{x}\".format(x = _x, y = _y)\n",
    "            _columns.append(_index)\n",
    "            \n",
    "    \n",
    "    df = pd.DataFrame(columns=_columns)\n",
    "    _name_count = 0\n",
    "    \n",
    "    for i in range( data.shape[0] ):\n",
    "        _data = data[i]\n",
    "        for a_11, a_12, a_21, a_22 in iter.product([0,1],[0,1],[0,1],[0,1]):\n",
    "            q_11 = _data[0][0] * a_11 + _data[0][1] * a_12 + _data[1][0] * a_21 + _data[1][1] * a_22\n",
    "            q_12 = _data[0][1] * a_11 + _data[0][2] * a_12 + _data[1][1] * a_21 + _data[1][2] * a_22\n",
    "            q_13 = _data[0][2] * a_11 + _data[0][3] * a_12 + _data[1][2] * a_21 + _data[1][3] * a_22\n",
    "            \n",
    "            q_21 = _data[1][0] * a_11 + _data[1][1] * a_12 + _data[2][0] * a_21 + _data[2][1] * a_22\n",
    "            q_22 = _data[1][1] * a_11 + _data[1][2] * a_12 + _data[2][1] * a_21 + _data[2][2] * a_22\n",
    "            q_23 = _data[1][2] * a_11 + _data[1][3] * a_12 + _data[2][2] * a_21 + _data[2][3] * a_22\n",
    "            \n",
    "            q_31 = _data[2][0] * a_11 + _data[2][1] * a_12 + _data[3][0] * a_21 + _data[3][1] * a_22\n",
    "            q_32 = _data[2][1] * a_11 + _data[2][2] * a_12 + _data[3][1] * a_21 + _data[3][2] * a_22\n",
    "            q_33 = _data[2][2] * a_11 + _data[2][3] * a_12 + _data[3][2] * a_21 + _data[3][3] * a_22\n",
    "            \n",
    "            _insert = pd.Series([_data[0][0], _data[0][1], _data[0][2], _data[0][3],\n",
    "                                 _data[1][0], _data[1][1], _data[1][2], _data[1][3],\n",
    "                                 _data[2][0], _data[2][1], _data[2][2], _data[2][3],\n",
    "                                 _data[3][0], _data[3][1], _data[3][2], _data[3][3],\n",
    "                                 q_11, q_12, q_13,\n",
    "                                 q_21, q_22, q_23,\n",
    "                                 q_31, q_32, q_33], index=df.columns, name = _name_count)\n",
    "            df = df.append(_insert)\n",
    "            _name_count += 1\n",
    "    \n",
    "    df.head(5)\n",
    "    df.tail(5)\n",
    "calcQMatrix()"
   ]
  },
  {
   "cell_type": "code",
   "execution_count": 11,
   "metadata": {},
   "outputs": [
    {
     "data": {
      "text/plain": [
       "(512, 3, 3)"
      ]
     },
     "execution_count": 11,
     "metadata": {},
     "output_type": "execute_result"
    }
   ],
   "source": []
  },
  {
   "cell_type": "code",
   "execution_count": null,
   "metadata": {},
   "outputs": [],
   "source": []
  }
 ],
 "metadata": {
  "kernelspec": {
   "display_name": "Python 3",
   "language": "python",
   "name": "python3"
  },
  "language_info": {
   "codemirror_mode": {
    "name": "ipython",
    "version": 3
   },
   "file_extension": ".py",
   "mimetype": "text/x-python",
   "name": "python",
   "nbconvert_exporter": "python",
   "pygments_lexer": "ipython3",
   "version": "3.6.6"
  }
 },
 "nbformat": 4,
 "nbformat_minor": 2
}
